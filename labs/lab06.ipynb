{
 "cells": [
  {
   "cell_type": "markdown",
   "metadata": {},
   "source": [
    "# Lab 06\n",
    "**Class**: *CSCI 349 - Intro to Data Mining*\n",
    "**Semester**: *2019 SP*\n",
    "**Name**: *Mateen Qureshi*\n",
    "**Instructor**: *Brian King*\n"
   ]
  },
  {
   "cell_type": "code",
   "execution_count": 1,
   "metadata": {
    "collapsed": true
   },
   "outputs": [],
   "source": [
    "import numpy as np\n",
    "import pandas as pd\n",
    "import matplotlib.pyplot as plt\n",
    "import seaborn as sns"
   ]
  },
  {
   "cell_type": "markdown",
   "metadata": {},
   "source": [
    "**1) [P] Before you begin, print out your current working directory to understand where in your file system Python\n",
    "thinks your script is running from**"
   ]
  },
  {
   "cell_type": "code",
   "execution_count": 2,
   "metadata": {},
   "outputs": [
    {
     "name": "stdout",
     "output_type": "stream",
     "text": [
      "C:\\csci349_2019sp\\labs\n"
     ]
    }
   ],
   "source": [
    "import os\n",
    "print(os.getcwd())"
   ]
  },
  {
   "cell_type": "markdown",
   "metadata": {},
   "source": [
    "**2) [P] Now, use pandas to read in your data file you downloaded above, which you should have placed in your\n",
    "data directory. Call the data frame df_temps. Read in the entire dataset.**"
   ]
  },
  {
   "cell_type": "code",
   "execution_count": 3,
   "metadata": {},
   "outputs": [],
   "source": [
    "data_dir = \"..\\data\\\\\"\n",
    "os.chdir(data_dir)\n",
    "filename = \"faa_hourly-KIPT_20180101-20181231.csv\""
   ]
  },
  {
   "cell_type": "code",
   "execution_count": 4,
   "metadata": {},
   "outputs": [],
   "source": [
    "df_temps = pd.read_csv(filename, skiprows=16, parse_dates=['Date/Time (GMT)'])\n",
    "df_temps.drop(labels=['Unnamed: 13'], axis=1, inplace=True)\n",
    "df_temps = df_temps[df_temps[\"Date/Time (GMT)\"] != \"Date/Time (GMT)\"]"
   ]
  },
  {
   "cell_type": "markdown",
   "metadata": {},
   "source": [
    "**3) [P] Show the shape of your dataframe.**"
   ]
  },
  {
   "cell_type": "code",
   "execution_count": 5,
   "metadata": {},
   "outputs": [
    {
     "data": {
      "text/plain": [
       "(8693, 13)"
      ]
     },
     "execution_count": 5,
     "metadata": {},
     "output_type": "execute_result"
    }
   ],
   "source": [
    "df_temps.shape"
   ]
  },
  {
   "cell_type": "markdown",
   "metadata": {},
   "source": [
    "**4) [P] Show the result of info().**"
   ]
  },
  {
   "cell_type": "code",
   "execution_count": 6,
   "metadata": {},
   "outputs": [
    {
     "name": "stdout",
     "output_type": "stream",
     "text": [
      "<class 'pandas.core.frame.DataFrame'>\n",
      "Int64Index: 8693 entries, 0 to 9126\n",
      "Data columns (total 13 columns):\n",
      "Date/Time (GMT)                  8693 non-null object\n",
      "Number of Observations (n/a)     8693 non-null object\n",
      "Average Temp (F)                 8687 non-null object\n",
      "Max Temp (F)                     8687 non-null object\n",
      "Min Temp (F)                     8687 non-null object\n",
      "Average Dewpoint Temp (F)        8687 non-null object\n",
      "1 Hour Precip (in)               1730 non-null object\n",
      "Max Wind Gust (mph)              1044 non-null object\n",
      "Average Relative Humidity (%)    8425 non-null object\n",
      "Average Wind Speed (mph)         8680 non-null object\n",
      "Average Station Pressure (mb)    8675 non-null object\n",
      "Average Wind Direction (deg)     8279 non-null object\n",
      "Max Wind Speed (mph)             8680 non-null object\n",
      "dtypes: object(13)\n",
      "memory usage: 950.8+ KB\n"
     ]
    }
   ],
   "source": [
    "df_temps.info()"
   ]
  },
  {
   "cell_type": "markdown",
   "metadata": {},
   "source": [
    "**5) [P] Read about the memory_usage() method of pandas data frames. Then, report the total memory in\n",
    "bytes for each variable of df_temps. Also, report the total memory required for the data frame. Set the\n",
    "parameter drop=True, to get the most accurate assessment of your total memory usage.**"
   ]
  },
  {
   "cell_type": "code",
   "execution_count": 7,
   "metadata": {},
   "outputs": [
    {
     "data": {
      "text/plain": [
       "Index                            69544\n",
       "Date/Time (GMT)                  69544\n",
       "Number of Observations (n/a)     69544\n",
       "Average Temp (F)                 69544\n",
       "Max Temp (F)                     69544\n",
       "Min Temp (F)                     69544\n",
       "Average Dewpoint Temp (F)        69544\n",
       "1 Hour Precip (in)               69544\n",
       "Max Wind Gust (mph)              69544\n",
       "Average Relative Humidity (%)    69544\n",
       "Average Wind Speed (mph)         69544\n",
       "Average Station Pressure (mb)    69544\n",
       "Average Wind Direction (deg)     69544\n",
       "Max Wind Speed (mph)             69544\n",
       "dtype: int64"
      ]
     },
     "execution_count": 7,
     "metadata": {},
     "output_type": "execute_result"
    }
   ],
   "source": [
    "df_temps.memory_usage()"
   ]
  },
  {
   "cell_type": "code",
   "execution_count": 8,
   "metadata": {},
   "outputs": [
    {
     "name": "stdout",
     "output_type": "stream",
     "text": [
      "Total Memory Usage is 6732694 bytes\n"
     ]
    }
   ],
   "source": [
    "old_usage = df_temps.memory_usage(deep=True).sum()\n",
    "print('Total Memory Usage is {} bytes'.format(old_usage))"
   ]
  },
  {
   "cell_type": "markdown",
   "metadata": {},
   "source": [
    "**6) [P, M] Report the current index. You have 8693 observations, but the index still goes from 0 to 9126. Why?**"
   ]
  },
  {
   "cell_type": "code",
   "execution_count": 9,
   "metadata": {},
   "outputs": [
    {
     "data": {
      "text/plain": [
       "Int64Index([   0,    1,    2,    3,    4,    5,    6,    7,    8,    9,\n",
       "            ...\n",
       "            9117, 9118, 9119, 9120, 9121, 9122, 9123, 9124, 9125, 9126],\n",
       "           dtype='int64', length=8693)"
      ]
     },
     "execution_count": 9,
     "metadata": {},
     "output_type": "execute_result"
    }
   ],
   "source": [
    "df_temps.index"
   ]
  },
  {
   "cell_type": "markdown",
   "metadata": {},
   "source": [
    "It still reports 9126 because when I removed the duplicate headers, the dataframe wasn't reindexed to reflect the removed rows."
   ]
  },
  {
   "cell_type": "markdown",
   "metadata": {},
   "source": [
    "**7) [P] Reindex your data, and show that the new index is indeed reset. (There are many ways to do this. I suggest\n",
    "using reset_index(). There is no need to retain the original index, so drop=True is fine.)**"
   ]
  },
  {
   "cell_type": "code",
   "execution_count": 10,
   "metadata": {},
   "outputs": [
    {
     "data": {
      "text/plain": [
       "RangeIndex(start=0, stop=8693, step=1)"
      ]
     },
     "execution_count": 10,
     "metadata": {},
     "output_type": "execute_result"
    }
   ],
   "source": [
    "df_temps.reset_index(drop=True, inplace=True)\n",
    "df_temps.index"
   ]
  },
  {
   "cell_type": "code",
   "execution_count": 11,
   "metadata": {},
   "outputs": [
    {
     "data": {
      "text/plain": [
       "'Date/Time (GMT)'"
      ]
     },
     "execution_count": 11,
     "metadata": {},
     "output_type": "execute_result"
    }
   ],
   "source": [
    "df_temps.iloc[:,0].name"
   ]
  },
  {
   "cell_type": "markdown",
   "metadata": {},
   "source": [
    "**8) [P] I cannot emphasize this enough – you will get the most out of your data when you take the time to set up\n",
    "the most accurate type for each variable. Currently, the type of every variable is object. However, notice\n",
    "that in your raw data file, EVERY variable is a number except the first variable, which is a date. Dates are\n",
    "COMMON in data, and it is important that you represent dates as actual date types! We'll deal with that\n",
    "shortly. Convert all numeric data to actual numeric data types. You'll need to look up how to do this. (HINT:\n",
    "pd.to_numeric() is your friend.) Leave the NaN fields alone! The fact that they are missing is\n",
    "IMPORTANT! And, leave the date/time variable in the first column alone.\n",
    "You should output the shape of your data, and show info() to show every variable is a floating point\n",
    "number**"
   ]
  },
  {
   "cell_type": "code",
   "execution_count": 12,
   "metadata": {},
   "outputs": [
    {
     "name": "stdout",
     "output_type": "stream",
     "text": [
      "Shape of data is (8693, 13)\n"
     ]
    }
   ],
   "source": [
    "cols = df_temps.columns.drop(\"Date/Time (GMT)\")\n",
    "df_temps[cols] = df_temps[cols].apply(pd.to_numeric, errors='coerce', axis=0)\n",
    "print(\"Shape of data is {}\".format(df_temps.shape))\n"
   ]
  },
  {
   "cell_type": "code",
   "execution_count": 13,
   "metadata": {},
   "outputs": [
    {
     "name": "stdout",
     "output_type": "stream",
     "text": [
      "<class 'pandas.core.frame.DataFrame'>\n",
      "RangeIndex: 8693 entries, 0 to 8692\n",
      "Data columns (total 13 columns):\n",
      "Date/Time (GMT)                  8693 non-null object\n",
      "Number of Observations (n/a)     8693 non-null int64\n",
      "Average Temp (F)                 8687 non-null float64\n",
      "Max Temp (F)                     8687 non-null float64\n",
      "Min Temp (F)                     8687 non-null float64\n",
      "Average Dewpoint Temp (F)        8687 non-null float64\n",
      "1 Hour Precip (in)               1730 non-null float64\n",
      "Max Wind Gust (mph)              1044 non-null float64\n",
      "Average Relative Humidity (%)    8425 non-null float64\n",
      "Average Wind Speed (mph)         8680 non-null float64\n",
      "Average Station Pressure (mb)    8675 non-null float64\n",
      "Average Wind Direction (deg)     8279 non-null float64\n",
      "Max Wind Speed (mph)             8680 non-null float64\n",
      "dtypes: float64(11), int64(1), object(1)\n",
      "memory usage: 883.0+ KB\n"
     ]
    }
   ],
   "source": [
    "df_temps.info()"
   ]
  },
  {
   "cell_type": "markdown",
   "metadata": {},
   "source": [
    "**9) [P] Show the current total memory usage after converting your data types? There should be a substantial drop\n",
    "in your memory footprint! Report the percentage that your memory was reduced.**"
   ]
  },
  {
   "cell_type": "code",
   "execution_count": 14,
   "metadata": {},
   "outputs": [
    {
     "name": "stdout",
     "output_type": "stream",
     "text": [
      "Total Memory Usage is 1495276 bytes\n",
      "Percentage reduction is 77.79 %\n"
     ]
    }
   ],
   "source": [
    "new_usage = df_temps.memory_usage(deep=True).sum()\n",
    "print('Total Memory Usage is {} bytes'.format(new_usage))\n",
    "print('Percentage reduction is {0:.2f} %'.format((old_usage-new_usage)/old_usage*100))"
   ]
  },
  {
   "cell_type": "markdown",
   "metadata": {},
   "source": [
    "**10) [P] Did you notice that to_numeric() has a parameter called downcast? Go back and read about this\n",
    "parameter. By default, most of the time your integer types will be converted to a 64-bit integer, and floating\n",
    "point types will use double precision numbers. You can do even better. Read about this parameter, and\n",
    "downcast your types accordingly. Report the percentage that your memory was reduced from the previous\n",
    "step, as well as from your first**"
   ]
  },
  {
   "cell_type": "code",
   "execution_count": 15,
   "metadata": {},
   "outputs": [
    {
     "name": "stdout",
     "output_type": "stream",
     "text": [
      "Percentage reduction from previous step is 29.65 %\n",
      "Percentage reduction from first step is 84.38 %\n"
     ]
    }
   ],
   "source": [
    "conversions = {np.dtype(np.int64):'unsigned',np.dtype(np.float64):'float'}\n",
    "df_temps[cols] = df_temps[cols].apply(lambda x: pd.to_numeric(x, errors='coerce', downcast=conversions[x.dtype]), axis=0)\n",
    "downcast_usage = df_temps.memory_usage(deep=True).sum()\n",
    "print('Percentage reduction from previous step is {0:.2f} %'.format((new_usage-downcast_usage)/new_usage*100))\n",
    "print('Percentage reduction from first step is {0:.2f} %'.format((old_usage-downcast_usage)/old_usage*100))"
   ]
  },
  {
   "cell_type": "markdown",
   "metadata": {},
   "source": [
    "**11) At this point, you should have good data to start working with (with the exception of the date column. Verify it\n",
    "by outputting the results of describe(). Every variable should have its basic stats reported.**"
   ]
  },
  {
   "cell_type": "code",
   "execution_count": 16,
   "metadata": {},
   "outputs": [
    {
     "data": {
      "text/html": [
       "<div>\n",
       "<style scoped>\n",
       "    .dataframe tbody tr th:only-of-type {\n",
       "        vertical-align: middle;\n",
       "    }\n",
       "\n",
       "    .dataframe tbody tr th {\n",
       "        vertical-align: top;\n",
       "    }\n",
       "\n",
       "    .dataframe thead th {\n",
       "        text-align: right;\n",
       "    }\n",
       "</style>\n",
       "<table border=\"1\" class=\"dataframe\">\n",
       "  <thead>\n",
       "    <tr style=\"text-align: right;\">\n",
       "      <th></th>\n",
       "      <th>Number of Observations (n/a)</th>\n",
       "      <th>Average Temp (F)</th>\n",
       "      <th>Max Temp (F)</th>\n",
       "      <th>Min Temp (F)</th>\n",
       "      <th>Average Dewpoint Temp (F)</th>\n",
       "      <th>1 Hour Precip (in)</th>\n",
       "      <th>Max Wind Gust (mph)</th>\n",
       "      <th>Average Relative Humidity (%)</th>\n",
       "      <th>Average Wind Speed (mph)</th>\n",
       "      <th>Average Station Pressure (mb)</th>\n",
       "      <th>Average Wind Direction (deg)</th>\n",
       "      <th>Max Wind Speed (mph)</th>\n",
       "    </tr>\n",
       "  </thead>\n",
       "  <tbody>\n",
       "    <tr>\n",
       "      <th>count</th>\n",
       "      <td>8693.000000</td>\n",
       "      <td>8687.000000</td>\n",
       "      <td>8687.000000</td>\n",
       "      <td>8687.000000</td>\n",
       "      <td>8687.000000</td>\n",
       "      <td>1730.000000</td>\n",
       "      <td>1044.000000</td>\n",
       "      <td>8425.000000</td>\n",
       "      <td>8680.000000</td>\n",
       "      <td>8675.000000</td>\n",
       "      <td>8279.000000</td>\n",
       "      <td>8680.000000</td>\n",
       "    </tr>\n",
       "    <tr>\n",
       "      <th>mean</th>\n",
       "      <td>1.399747</td>\n",
       "      <td>51.752987</td>\n",
       "      <td>51.847435</td>\n",
       "      <td>51.662914</td>\n",
       "      <td>41.679428</td>\n",
       "      <td>0.040006</td>\n",
       "      <td>23.856617</td>\n",
       "      <td>71.532364</td>\n",
       "      <td>6.033965</td>\n",
       "      <td>1017.902222</td>\n",
       "      <td>153.428192</td>\n",
       "      <td>6.325367</td>\n",
       "    </tr>\n",
       "    <tr>\n",
       "      <th>std</th>\n",
       "      <td>0.903277</td>\n",
       "      <td>19.336796</td>\n",
       "      <td>19.362728</td>\n",
       "      <td>19.315928</td>\n",
       "      <td>20.122921</td>\n",
       "      <td>0.088109</td>\n",
       "      <td>5.003509</td>\n",
       "      <td>19.806757</td>\n",
       "      <td>5.022885</td>\n",
       "      <td>7.417259</td>\n",
       "      <td>123.157219</td>\n",
       "      <td>5.109391</td>\n",
       "    </tr>\n",
       "    <tr>\n",
       "      <th>min</th>\n",
       "      <td>1.000000</td>\n",
       "      <td>-2.900000</td>\n",
       "      <td>-2.900000</td>\n",
       "      <td>-2.900000</td>\n",
       "      <td>-11.000000</td>\n",
       "      <td>0.000000</td>\n",
       "      <td>16.100000</td>\n",
       "      <td>9.000000</td>\n",
       "      <td>0.000000</td>\n",
       "      <td>986.000000</td>\n",
       "      <td>0.000000</td>\n",
       "      <td>0.000000</td>\n",
       "    </tr>\n",
       "    <tr>\n",
       "      <th>25%</th>\n",
       "      <td>1.000000</td>\n",
       "      <td>36.000000</td>\n",
       "      <td>36.000000</td>\n",
       "      <td>36.000000</td>\n",
       "      <td>25.000000</td>\n",
       "      <td>0.000000</td>\n",
       "      <td>20.700001</td>\n",
       "      <td>57.000000</td>\n",
       "      <td>1.750000</td>\n",
       "      <td>1013.200012</td>\n",
       "      <td>2.085000</td>\n",
       "      <td>3.500000</td>\n",
       "    </tr>\n",
       "    <tr>\n",
       "      <th>50%</th>\n",
       "      <td>1.000000</td>\n",
       "      <td>51.099998</td>\n",
       "      <td>51.099998</td>\n",
       "      <td>50.000000</td>\n",
       "      <td>42.099998</td>\n",
       "      <td>0.010000</td>\n",
       "      <td>23.000000</td>\n",
       "      <td>75.000000</td>\n",
       "      <td>5.800000</td>\n",
       "      <td>1017.900024</td>\n",
       "      <td>133.330002</td>\n",
       "      <td>5.800000</td>\n",
       "    </tr>\n",
       "    <tr>\n",
       "      <th>75%</th>\n",
       "      <td>1.000000</td>\n",
       "      <td>69.099998</td>\n",
       "      <td>69.099998</td>\n",
       "      <td>69.099998</td>\n",
       "      <td>60.099998</td>\n",
       "      <td>0.040000</td>\n",
       "      <td>26.500000</td>\n",
       "      <td>89.000000</td>\n",
       "      <td>9.200000</td>\n",
       "      <td>1022.400024</td>\n",
       "      <td>270.000000</td>\n",
       "      <td>9.200000</td>\n",
       "    </tr>\n",
       "    <tr>\n",
       "      <th>max</th>\n",
       "      <td>8.000000</td>\n",
       "      <td>96.099998</td>\n",
       "      <td>96.099998</td>\n",
       "      <td>96.099998</td>\n",
       "      <td>76.449997</td>\n",
       "      <td>1.480000</td>\n",
       "      <td>54.099998</td>\n",
       "      <td>100.000000</td>\n",
       "      <td>35.700001</td>\n",
       "      <td>1043.699951</td>\n",
       "      <td>360.000000</td>\n",
       "      <td>36.799999</td>\n",
       "    </tr>\n",
       "  </tbody>\n",
       "</table>\n",
       "</div>"
      ],
      "text/plain": [
       "       Number of Observations (n/a)  Average Temp (F)  Max Temp (F)  \\\n",
       "count                   8693.000000       8687.000000   8687.000000   \n",
       "mean                       1.399747         51.752987     51.847435   \n",
       "std                        0.903277         19.336796     19.362728   \n",
       "min                        1.000000         -2.900000     -2.900000   \n",
       "25%                        1.000000         36.000000     36.000000   \n",
       "50%                        1.000000         51.099998     51.099998   \n",
       "75%                        1.000000         69.099998     69.099998   \n",
       "max                        8.000000         96.099998     96.099998   \n",
       "\n",
       "       Min Temp (F)  Average Dewpoint Temp (F)  1 Hour Precip (in)  \\\n",
       "count   8687.000000                8687.000000         1730.000000   \n",
       "mean      51.662914                  41.679428            0.040006   \n",
       "std       19.315928                  20.122921            0.088109   \n",
       "min       -2.900000                 -11.000000            0.000000   \n",
       "25%       36.000000                  25.000000            0.000000   \n",
       "50%       50.000000                  42.099998            0.010000   \n",
       "75%       69.099998                  60.099998            0.040000   \n",
       "max       96.099998                  76.449997            1.480000   \n",
       "\n",
       "       Max Wind Gust (mph)  Average Relative Humidity (%)  \\\n",
       "count          1044.000000                    8425.000000   \n",
       "mean             23.856617                      71.532364   \n",
       "std               5.003509                      19.806757   \n",
       "min              16.100000                       9.000000   \n",
       "25%              20.700001                      57.000000   \n",
       "50%              23.000000                      75.000000   \n",
       "75%              26.500000                      89.000000   \n",
       "max              54.099998                     100.000000   \n",
       "\n",
       "       Average Wind Speed (mph)  Average Station Pressure (mb)  \\\n",
       "count               8680.000000                    8675.000000   \n",
       "mean                   6.033965                    1017.902222   \n",
       "std                    5.022885                       7.417259   \n",
       "min                    0.000000                     986.000000   \n",
       "25%                    1.750000                    1013.200012   \n",
       "50%                    5.800000                    1017.900024   \n",
       "75%                    9.200000                    1022.400024   \n",
       "max                   35.700001                    1043.699951   \n",
       "\n",
       "       Average Wind Direction (deg)  Max Wind Speed (mph)  \n",
       "count                   8279.000000           8680.000000  \n",
       "mean                     153.428192              6.325367  \n",
       "std                      123.157219              5.109391  \n",
       "min                        0.000000              0.000000  \n",
       "25%                        2.085000              3.500000  \n",
       "50%                      133.330002              5.800000  \n",
       "75%                      270.000000              9.200000  \n",
       "max                      360.000000             36.799999  "
      ]
     },
     "execution_count": 16,
     "metadata": {},
     "output_type": "execute_result"
    }
   ],
   "source": [
    "df_temps.describe()"
   ]
  },
  {
   "cell_type": "markdown",
   "metadata": {},
   "source": [
    "**12) [M] What are the four primary classes in pandas for working with dates and times? What is each used for?**"
   ]
  },
  {
   "cell_type": "markdown",
   "metadata": {},
   "source": [
    "*Timestamp*: Represents a single timestamp at a point in time\n",
    "<br>\n",
    "*DatetimeIndex*: Index of *Timestamp*\n",
    "<br>\n",
    "*Period*: Represents a single time span\n",
    "<br>\n",
    "*PeriodIndex*: Index of *Period*"
   ]
  },
  {
   "cell_type": "markdown",
   "metadata": {},
   "source": [
    "**13) [M] What is the name of the pandas function that is used to convert string objects or other types to a\n",
    "Timestamp object?**"
   ]
  },
  {
   "cell_type": "markdown",
   "metadata": {},
   "source": [
    "pandas.to_datetime"
   ]
  },
  {
   "cell_type": "markdown",
   "metadata": {},
   "source": [
    "**14) [P] Create a Timestamp object from the string \"07/04/19\", which is a date representing July 4, 2019.\n",
    "Store the object as d1 and show it.**"
   ]
  },
  {
   "cell_type": "code",
   "execution_count": 17,
   "metadata": {},
   "outputs": [
    {
     "data": {
      "text/plain": [
       "Timestamp('2019-07-04 00:00:00')"
      ]
     },
     "execution_count": 17,
     "metadata": {},
     "output_type": "execute_result"
    }
   ],
   "source": [
    "d1 = pd.to_datetime(\"07/04/19\")\n",
    "d1"
   ]
  },
  {
   "cell_type": "markdown",
   "metadata": {},
   "source": [
    "**15) [P] Using d1 and string formatting capabilities, print the string\n",
    "\"Today's date is Thursday, July 4, 2019\".**"
   ]
  },
  {
   "cell_type": "code",
   "execution_count": 18,
   "metadata": {},
   "outputs": [
    {
     "name": "stdout",
     "output_type": "stream",
     "text": [
      "Today's date is Thursday, July 4, 2019\n"
     ]
    }
   ],
   "source": [
    "print(\"Today's date is {}, {} {}, {}\".format(d1.day_name(), d1.month_name(), d1.day, d1.year))"
   ]
  },
  {
   "cell_type": "markdown",
   "metadata": {},
   "source": [
    "**16) [P] Create another Timestamp object representing Sept 7, 2019 at 3pm, called d2. Report it**"
   ]
  },
  {
   "cell_type": "code",
   "execution_count": 19,
   "metadata": {},
   "outputs": [
    {
     "data": {
      "text/plain": [
       "Timestamp('2019-09-07 15:00:00')"
      ]
     },
     "execution_count": 19,
     "metadata": {},
     "output_type": "execute_result"
    }
   ],
   "source": [
    "d2 = pd.Timestamp(\"09/07/19 3pm\")\n",
    "d2"
   ]
  },
  {
   "cell_type": "markdown",
   "metadata": {},
   "source": [
    "**17) [P] Subtract d2 – d1, and report the difference as the number of days and seconds between these two. Also\n",
    "report the difference as total seconds. (NOTE: The difference should be 65 days, 54000 seconds. Or 5670000\n",
    "total seconds.)**"
   ]
  },
  {
   "cell_type": "code",
   "execution_count": 20,
   "metadata": {},
   "outputs": [
    {
     "name": "stdout",
     "output_type": "stream",
     "text": [
      "Difference between d2 and d1 is 65 days and 54000 seconds\n",
      "Difference in total seconds is 5670000\n"
     ]
    }
   ],
   "source": [
    "diff = d2 - d1\n",
    "print(\"Difference between d2 and d1 is {} days and {} seconds\".format(diff.days, diff.seconds))\n",
    "print(\"Difference in total seconds is {}\".format(round(diff.total_seconds())))"
   ]
  },
  {
   "cell_type": "markdown",
   "metadata": {},
   "source": [
    "**18) [P] Create a new Timestamp object from the string \"2019-07-01 08:30pm\", but, localize the time\n",
    "stamp to represent the time in the US Eastern Time Zone. Store the result as d3 and output it.**"
   ]
  },
  {
   "cell_type": "code",
   "execution_count": 21,
   "metadata": {},
   "outputs": [
    {
     "data": {
      "text/plain": [
       "Timestamp('2019-07-01 20:30:00-0400', tz='US/Eastern')"
      ]
     },
     "execution_count": 21,
     "metadata": {},
     "output_type": "execute_result"
    }
   ],
   "source": [
    "d3 = pd.Timestamp(\"2019-07-01 08:30pm\", tz='US/Eastern')\n",
    "d3"
   ]
  },
  {
   "cell_type": "markdown",
   "metadata": {},
   "source": [
    "**19) [P] Show time represented by d3, but converted to the US / Pacific Time Zone. The time reported should be\n",
    "three hours earlier than EST shown in the previous question.**"
   ]
  },
  {
   "cell_type": "code",
   "execution_count": 22,
   "metadata": {},
   "outputs": [
    {
     "data": {
      "text/plain": [
       "Timestamp('2019-07-01 17:30:00-0700', tz='US/Pacific')"
      ]
     },
     "execution_count": 22,
     "metadata": {},
     "output_type": "execute_result"
    }
   ],
   "source": [
    "d3.tz_convert('US/Pacific')"
   ]
  },
  {
   "cell_type": "markdown",
   "metadata": {},
   "source": [
    "**20) [P] Create a Timestamp object representing right now, stored as ts_now. Report the result.**"
   ]
  },
  {
   "cell_type": "code",
   "execution_count": 23,
   "metadata": {},
   "outputs": [
    {
     "data": {
      "text/plain": [
       "Timestamp('2019-02-06 22:23:54.960827')"
      ]
     },
     "execution_count": 23,
     "metadata": {},
     "output_type": "execute_result"
    }
   ],
   "source": [
    "ts_now = pd.Timestamp('now')\n",
    "ts_now"
   ]
  },
  {
   "cell_type": "markdown",
   "metadata": {},
   "source": [
    "**21) [P] Create a Timedelta object representing 1 hour, stored as td_hour. Report the result.**"
   ]
  },
  {
   "cell_type": "code",
   "execution_count": 24,
   "metadata": {},
   "outputs": [
    {
     "data": {
      "text/plain": [
       "Timedelta('0 days 01:00:00')"
      ]
     },
     "execution_count": 24,
     "metadata": {},
     "output_type": "execute_result"
    }
   ],
   "source": [
    "td_hour = pd.Timedelta('1 hour')\n",
    "td_hour"
   ]
  },
  {
   "cell_type": "markdown",
   "metadata": {},
   "source": [
    "**22) [P] Demonstrate how you can do basic mathematical operations by adding 6 hours to ts_now using\n",
    "td_hour and basic math operations. (i.e. No loops or further calculations necessary!)**"
   ]
  },
  {
   "cell_type": "code",
   "execution_count": 25,
   "metadata": {},
   "outputs": [
    {
     "data": {
      "text/plain": [
       "Timestamp('2019-02-07 04:23:54.960827')"
      ]
     },
     "execution_count": 25,
     "metadata": {},
     "output_type": "execute_result"
    }
   ],
   "source": [
    "ts_now + 6 * td_hour"
   ]
  },
  {
   "cell_type": "markdown",
   "metadata": {},
   "source": [
    "**23) [P] Create a DatetimeIndex object that represents every hour during the month of January, 2019. The first\n",
    "index should be midnight, January 1, 2019, and the last index should be January 31, 2019 at 11pm. Store the\n",
    "object as dr. (HINT – use the pd.date_range() method!)**"
   ]
  },
  {
   "cell_type": "code",
   "execution_count": 26,
   "metadata": {},
   "outputs": [
    {
     "data": {
      "text/plain": [
       "DatetimeIndex(['2019-01-01 00:00:00', '2019-01-01 01:00:00',\n",
       "               '2019-01-01 02:00:00', '2019-01-01 03:00:00',\n",
       "               '2019-01-01 04:00:00', '2019-01-01 05:00:00',\n",
       "               '2019-01-01 06:00:00', '2019-01-01 07:00:00',\n",
       "               '2019-01-01 08:00:00', '2019-01-01 09:00:00',\n",
       "               ...\n",
       "               '2019-01-30 15:00:00', '2019-01-30 16:00:00',\n",
       "               '2019-01-30 17:00:00', '2019-01-30 18:00:00',\n",
       "               '2019-01-30 19:00:00', '2019-01-30 20:00:00',\n",
       "               '2019-01-30 21:00:00', '2019-01-30 22:00:00',\n",
       "               '2019-01-30 23:00:00', '2019-01-31 00:00:00'],\n",
       "              dtype='datetime64[ns]', length=721, freq='H')"
      ]
     },
     "execution_count": 26,
     "metadata": {},
     "output_type": "execute_result"
    }
   ],
   "source": [
    "dr = pd.DatetimeIndex(pd.date_range(start='January 1, 2019',end='January 31, 2019',freq='H'))\n",
    "dr"
   ]
  },
  {
   "cell_type": "markdown",
   "metadata": {},
   "source": [
    "**24) [P] Now, deal with that first column of data. It's currently an object. Use it to form the index of df_temps\n",
    "to be a DatetimeIndex type. NOTE: You can NOT simply generate this column using your own date range\n",
    "object! You must generate it directly from the actual time/date stamp in the data! Why? This is very\n",
    "important. Do NOT ever be fooled into thinking any real-world dataset you are dealing with is 100%\n",
    "complete. If you simply try to use a date range between 1/1 – 12/31, with every hour, you are making an incorrect assumption that every observation is present! WRONG!**"
   ]
  },
  {
   "cell_type": "code",
   "execution_count": 27,
   "metadata": {
    "collapsed": true
   },
   "outputs": [],
   "source": [
    "df_temps.index = pd.DatetimeIndex(df_temps['Date/Time (GMT)'])"
   ]
  },
  {
   "cell_type": "markdown",
   "metadata": {},
   "source": [
    "**25) [P] Confirm that your index is indeed matching your first column of data, then use the drop method to\n",
    "eliminate the first column of time / date data. It is now your index, and thus there is no need to keep this\n",
    "information twice.**"
   ]
  },
  {
   "cell_type": "code",
   "execution_count": 28,
   "metadata": {},
   "outputs": [
    {
     "data": {
      "text/html": [
       "<div>\n",
       "<style scoped>\n",
       "    .dataframe tbody tr th:only-of-type {\n",
       "        vertical-align: middle;\n",
       "    }\n",
       "\n",
       "    .dataframe tbody tr th {\n",
       "        vertical-align: top;\n",
       "    }\n",
       "\n",
       "    .dataframe thead th {\n",
       "        text-align: right;\n",
       "    }\n",
       "</style>\n",
       "<table border=\"1\" class=\"dataframe\">\n",
       "  <thead>\n",
       "    <tr style=\"text-align: right;\">\n",
       "      <th></th>\n",
       "      <th>Date/Time (GMT)</th>\n",
       "      <th>Number of Observations (n/a)</th>\n",
       "      <th>Average Temp (F)</th>\n",
       "      <th>Max Temp (F)</th>\n",
       "      <th>Min Temp (F)</th>\n",
       "      <th>Average Dewpoint Temp (F)</th>\n",
       "      <th>1 Hour Precip (in)</th>\n",
       "      <th>Max Wind Gust (mph)</th>\n",
       "      <th>Average Relative Humidity (%)</th>\n",
       "      <th>Average Wind Speed (mph)</th>\n",
       "      <th>Average Station Pressure (mb)</th>\n",
       "      <th>Average Wind Direction (deg)</th>\n",
       "      <th>Max Wind Speed (mph)</th>\n",
       "    </tr>\n",
       "    <tr>\n",
       "      <th>Date/Time (GMT)</th>\n",
       "      <th></th>\n",
       "      <th></th>\n",
       "      <th></th>\n",
       "      <th></th>\n",
       "      <th></th>\n",
       "      <th></th>\n",
       "      <th></th>\n",
       "      <th></th>\n",
       "      <th></th>\n",
       "      <th></th>\n",
       "      <th></th>\n",
       "      <th></th>\n",
       "      <th></th>\n",
       "    </tr>\n",
       "  </thead>\n",
       "  <tbody>\n",
       "    <tr>\n",
       "      <th>2018-01-01 00:00:00</th>\n",
       "      <td>2018-01-01 00:00:00</td>\n",
       "      <td>1</td>\n",
       "      <td>10.0</td>\n",
       "      <td>10.0</td>\n",
       "      <td>10.0</td>\n",
       "      <td>-5.1</td>\n",
       "      <td>NaN</td>\n",
       "      <td>NaN</td>\n",
       "      <td>49.0</td>\n",
       "      <td>6.9</td>\n",
       "      <td>1028.099976</td>\n",
       "      <td>310.0</td>\n",
       "      <td>6.9</td>\n",
       "    </tr>\n",
       "    <tr>\n",
       "      <th>2018-01-01 01:00:00</th>\n",
       "      <td>2018-01-01 01:00:00</td>\n",
       "      <td>1</td>\n",
       "      <td>8.1</td>\n",
       "      <td>8.1</td>\n",
       "      <td>8.1</td>\n",
       "      <td>-5.1</td>\n",
       "      <td>NaN</td>\n",
       "      <td>NaN</td>\n",
       "      <td>54.0</td>\n",
       "      <td>0.0</td>\n",
       "      <td>1028.400024</td>\n",
       "      <td>0.0</td>\n",
       "      <td>0.0</td>\n",
       "    </tr>\n",
       "    <tr>\n",
       "      <th>2018-01-01 02:00:00</th>\n",
       "      <td>2018-01-01 02:00:00</td>\n",
       "      <td>1</td>\n",
       "      <td>7.0</td>\n",
       "      <td>7.0</td>\n",
       "      <td>7.0</td>\n",
       "      <td>-4.0</td>\n",
       "      <td>NaN</td>\n",
       "      <td>NaN</td>\n",
       "      <td>60.0</td>\n",
       "      <td>0.0</td>\n",
       "      <td>1028.800049</td>\n",
       "      <td>0.0</td>\n",
       "      <td>0.0</td>\n",
       "    </tr>\n",
       "    <tr>\n",
       "      <th>2018-01-01 03:00:00</th>\n",
       "      <td>2018-01-01 03:00:00</td>\n",
       "      <td>1</td>\n",
       "      <td>3.9</td>\n",
       "      <td>3.9</td>\n",
       "      <td>3.9</td>\n",
       "      <td>-5.1</td>\n",
       "      <td>NaN</td>\n",
       "      <td>NaN</td>\n",
       "      <td>65.0</td>\n",
       "      <td>3.5</td>\n",
       "      <td>1029.099976</td>\n",
       "      <td>240.0</td>\n",
       "      <td>3.5</td>\n",
       "    </tr>\n",
       "    <tr>\n",
       "      <th>2018-01-01 04:00:00</th>\n",
       "      <td>2018-01-01 04:00:00</td>\n",
       "      <td>1</td>\n",
       "      <td>9.0</td>\n",
       "      <td>9.0</td>\n",
       "      <td>9.0</td>\n",
       "      <td>-2.9</td>\n",
       "      <td>NaN</td>\n",
       "      <td>NaN</td>\n",
       "      <td>58.0</td>\n",
       "      <td>9.2</td>\n",
       "      <td>1029.099976</td>\n",
       "      <td>270.0</td>\n",
       "      <td>9.2</td>\n",
       "    </tr>\n",
       "  </tbody>\n",
       "</table>\n",
       "</div>"
      ],
      "text/plain": [
       "                         Date/Time (GMT)  Number of Observations (n/a)  \\\n",
       "Date/Time (GMT)                                                          \n",
       "2018-01-01 00:00:00  2018-01-01 00:00:00                             1   \n",
       "2018-01-01 01:00:00  2018-01-01 01:00:00                             1   \n",
       "2018-01-01 02:00:00  2018-01-01 02:00:00                             1   \n",
       "2018-01-01 03:00:00  2018-01-01 03:00:00                             1   \n",
       "2018-01-01 04:00:00  2018-01-01 04:00:00                             1   \n",
       "\n",
       "                     Average Temp (F)  Max Temp (F)  Min Temp (F)  \\\n",
       "Date/Time (GMT)                                                     \n",
       "2018-01-01 00:00:00              10.0          10.0          10.0   \n",
       "2018-01-01 01:00:00               8.1           8.1           8.1   \n",
       "2018-01-01 02:00:00               7.0           7.0           7.0   \n",
       "2018-01-01 03:00:00               3.9           3.9           3.9   \n",
       "2018-01-01 04:00:00               9.0           9.0           9.0   \n",
       "\n",
       "                     Average Dewpoint Temp (F)  1 Hour Precip (in)  \\\n",
       "Date/Time (GMT)                                                      \n",
       "2018-01-01 00:00:00                       -5.1                 NaN   \n",
       "2018-01-01 01:00:00                       -5.1                 NaN   \n",
       "2018-01-01 02:00:00                       -4.0                 NaN   \n",
       "2018-01-01 03:00:00                       -5.1                 NaN   \n",
       "2018-01-01 04:00:00                       -2.9                 NaN   \n",
       "\n",
       "                     Max Wind Gust (mph)  Average Relative Humidity (%)  \\\n",
       "Date/Time (GMT)                                                           \n",
       "2018-01-01 00:00:00                  NaN                           49.0   \n",
       "2018-01-01 01:00:00                  NaN                           54.0   \n",
       "2018-01-01 02:00:00                  NaN                           60.0   \n",
       "2018-01-01 03:00:00                  NaN                           65.0   \n",
       "2018-01-01 04:00:00                  NaN                           58.0   \n",
       "\n",
       "                     Average Wind Speed (mph)  Average Station Pressure (mb)  \\\n",
       "Date/Time (GMT)                                                                \n",
       "2018-01-01 00:00:00                       6.9                    1028.099976   \n",
       "2018-01-01 01:00:00                       0.0                    1028.400024   \n",
       "2018-01-01 02:00:00                       0.0                    1028.800049   \n",
       "2018-01-01 03:00:00                       3.5                    1029.099976   \n",
       "2018-01-01 04:00:00                       9.2                    1029.099976   \n",
       "\n",
       "                     Average Wind Direction (deg)  Max Wind Speed (mph)  \n",
       "Date/Time (GMT)                                                          \n",
       "2018-01-01 00:00:00                         310.0                   6.9  \n",
       "2018-01-01 01:00:00                           0.0                   0.0  \n",
       "2018-01-01 02:00:00                           0.0                   0.0  \n",
       "2018-01-01 03:00:00                         240.0                   3.5  \n",
       "2018-01-01 04:00:00                         270.0                   9.2  "
      ]
     },
     "execution_count": 28,
     "metadata": {},
     "output_type": "execute_result"
    }
   ],
   "source": [
    "df_temps.head()"
   ]
  },
  {
   "cell_type": "code",
   "execution_count": 29,
   "metadata": {},
   "outputs": [],
   "source": [
    "df_temps.drop(labels=['Date/Time (GMT)'], axis=1, inplace=True)"
   ]
  },
  {
   "cell_type": "code",
   "execution_count": 30,
   "metadata": {},
   "outputs": [
    {
     "data": {
      "text/html": [
       "<div>\n",
       "<style scoped>\n",
       "    .dataframe tbody tr th:only-of-type {\n",
       "        vertical-align: middle;\n",
       "    }\n",
       "\n",
       "    .dataframe tbody tr th {\n",
       "        vertical-align: top;\n",
       "    }\n",
       "\n",
       "    .dataframe thead th {\n",
       "        text-align: right;\n",
       "    }\n",
       "</style>\n",
       "<table border=\"1\" class=\"dataframe\">\n",
       "  <thead>\n",
       "    <tr style=\"text-align: right;\">\n",
       "      <th></th>\n",
       "      <th>Number of Observations (n/a)</th>\n",
       "      <th>Average Temp (F)</th>\n",
       "      <th>Max Temp (F)</th>\n",
       "      <th>Min Temp (F)</th>\n",
       "      <th>Average Dewpoint Temp (F)</th>\n",
       "      <th>1 Hour Precip (in)</th>\n",
       "      <th>Max Wind Gust (mph)</th>\n",
       "      <th>Average Relative Humidity (%)</th>\n",
       "      <th>Average Wind Speed (mph)</th>\n",
       "      <th>Average Station Pressure (mb)</th>\n",
       "      <th>Average Wind Direction (deg)</th>\n",
       "      <th>Max Wind Speed (mph)</th>\n",
       "    </tr>\n",
       "    <tr>\n",
       "      <th>Date/Time (GMT)</th>\n",
       "      <th></th>\n",
       "      <th></th>\n",
       "      <th></th>\n",
       "      <th></th>\n",
       "      <th></th>\n",
       "      <th></th>\n",
       "      <th></th>\n",
       "      <th></th>\n",
       "      <th></th>\n",
       "      <th></th>\n",
       "      <th></th>\n",
       "      <th></th>\n",
       "    </tr>\n",
       "  </thead>\n",
       "  <tbody>\n",
       "    <tr>\n",
       "      <th>2018-01-01 00:00:00</th>\n",
       "      <td>1</td>\n",
       "      <td>10.0</td>\n",
       "      <td>10.0</td>\n",
       "      <td>10.0</td>\n",
       "      <td>-5.1</td>\n",
       "      <td>NaN</td>\n",
       "      <td>NaN</td>\n",
       "      <td>49.0</td>\n",
       "      <td>6.9</td>\n",
       "      <td>1028.099976</td>\n",
       "      <td>310.0</td>\n",
       "      <td>6.9</td>\n",
       "    </tr>\n",
       "    <tr>\n",
       "      <th>2018-01-01 01:00:00</th>\n",
       "      <td>1</td>\n",
       "      <td>8.1</td>\n",
       "      <td>8.1</td>\n",
       "      <td>8.1</td>\n",
       "      <td>-5.1</td>\n",
       "      <td>NaN</td>\n",
       "      <td>NaN</td>\n",
       "      <td>54.0</td>\n",
       "      <td>0.0</td>\n",
       "      <td>1028.400024</td>\n",
       "      <td>0.0</td>\n",
       "      <td>0.0</td>\n",
       "    </tr>\n",
       "    <tr>\n",
       "      <th>2018-01-01 02:00:00</th>\n",
       "      <td>1</td>\n",
       "      <td>7.0</td>\n",
       "      <td>7.0</td>\n",
       "      <td>7.0</td>\n",
       "      <td>-4.0</td>\n",
       "      <td>NaN</td>\n",
       "      <td>NaN</td>\n",
       "      <td>60.0</td>\n",
       "      <td>0.0</td>\n",
       "      <td>1028.800049</td>\n",
       "      <td>0.0</td>\n",
       "      <td>0.0</td>\n",
       "    </tr>\n",
       "    <tr>\n",
       "      <th>2018-01-01 03:00:00</th>\n",
       "      <td>1</td>\n",
       "      <td>3.9</td>\n",
       "      <td>3.9</td>\n",
       "      <td>3.9</td>\n",
       "      <td>-5.1</td>\n",
       "      <td>NaN</td>\n",
       "      <td>NaN</td>\n",
       "      <td>65.0</td>\n",
       "      <td>3.5</td>\n",
       "      <td>1029.099976</td>\n",
       "      <td>240.0</td>\n",
       "      <td>3.5</td>\n",
       "    </tr>\n",
       "    <tr>\n",
       "      <th>2018-01-01 04:00:00</th>\n",
       "      <td>1</td>\n",
       "      <td>9.0</td>\n",
       "      <td>9.0</td>\n",
       "      <td>9.0</td>\n",
       "      <td>-2.9</td>\n",
       "      <td>NaN</td>\n",
       "      <td>NaN</td>\n",
       "      <td>58.0</td>\n",
       "      <td>9.2</td>\n",
       "      <td>1029.099976</td>\n",
       "      <td>270.0</td>\n",
       "      <td>9.2</td>\n",
       "    </tr>\n",
       "  </tbody>\n",
       "</table>\n",
       "</div>"
      ],
      "text/plain": [
       "                     Number of Observations (n/a)  Average Temp (F)  \\\n",
       "Date/Time (GMT)                                                       \n",
       "2018-01-01 00:00:00                             1              10.0   \n",
       "2018-01-01 01:00:00                             1               8.1   \n",
       "2018-01-01 02:00:00                             1               7.0   \n",
       "2018-01-01 03:00:00                             1               3.9   \n",
       "2018-01-01 04:00:00                             1               9.0   \n",
       "\n",
       "                     Max Temp (F)  Min Temp (F)  Average Dewpoint Temp (F)  \\\n",
       "Date/Time (GMT)                                                              \n",
       "2018-01-01 00:00:00          10.0          10.0                       -5.1   \n",
       "2018-01-01 01:00:00           8.1           8.1                       -5.1   \n",
       "2018-01-01 02:00:00           7.0           7.0                       -4.0   \n",
       "2018-01-01 03:00:00           3.9           3.9                       -5.1   \n",
       "2018-01-01 04:00:00           9.0           9.0                       -2.9   \n",
       "\n",
       "                     1 Hour Precip (in)  Max Wind Gust (mph)  \\\n",
       "Date/Time (GMT)                                                \n",
       "2018-01-01 00:00:00                 NaN                  NaN   \n",
       "2018-01-01 01:00:00                 NaN                  NaN   \n",
       "2018-01-01 02:00:00                 NaN                  NaN   \n",
       "2018-01-01 03:00:00                 NaN                  NaN   \n",
       "2018-01-01 04:00:00                 NaN                  NaN   \n",
       "\n",
       "                     Average Relative Humidity (%)  Average Wind Speed (mph)  \\\n",
       "Date/Time (GMT)                                                                \n",
       "2018-01-01 00:00:00                           49.0                       6.9   \n",
       "2018-01-01 01:00:00                           54.0                       0.0   \n",
       "2018-01-01 02:00:00                           60.0                       0.0   \n",
       "2018-01-01 03:00:00                           65.0                       3.5   \n",
       "2018-01-01 04:00:00                           58.0                       9.2   \n",
       "\n",
       "                     Average Station Pressure (mb)  \\\n",
       "Date/Time (GMT)                                      \n",
       "2018-01-01 00:00:00                    1028.099976   \n",
       "2018-01-01 01:00:00                    1028.400024   \n",
       "2018-01-01 02:00:00                    1028.800049   \n",
       "2018-01-01 03:00:00                    1029.099976   \n",
       "2018-01-01 04:00:00                    1029.099976   \n",
       "\n",
       "                     Average Wind Direction (deg)  Max Wind Speed (mph)  \n",
       "Date/Time (GMT)                                                          \n",
       "2018-01-01 00:00:00                         310.0                   6.9  \n",
       "2018-01-01 01:00:00                           0.0                   0.0  \n",
       "2018-01-01 02:00:00                           0.0                   0.0  \n",
       "2018-01-01 03:00:00                         240.0                   3.5  \n",
       "2018-01-01 04:00:00                         270.0                   9.2  "
      ]
     },
     "execution_count": 30,
     "metadata": {},
     "output_type": "execute_result"
    }
   ],
   "source": [
    "df_temps.head()"
   ]
  },
  {
   "cell_type": "markdown",
   "metadata": {},
   "source": [
    "**26) [P] Give one final report on the % memory reduction made now, compared to when you first loaded in the\n",
    "data. Again, please take this seriously. This is a substantial amount of memory saved! Why? Because you took\n",
    "the time to properly process every column to have it represent its most accurate type, using the smallest type\n",
    "necessary. HUGE savings!**"
   ]
  },
  {
   "cell_type": "code",
   "execution_count": 31,
   "metadata": {},
   "outputs": [
    {
     "name": "stdout",
     "output_type": "stream",
     "text": [
      "Percentage reduction from first step is 93.16 %\n"
     ]
    }
   ],
   "source": [
    "usage_after_index = df_temps.memory_usage(deep=True).sum()\n",
    "print('Percentage reduction from first step is {0:.2f} %'.format((old_usage-usage_after_index)/old_usage*100))\n"
   ]
  },
  {
   "cell_type": "markdown",
   "metadata": {},
   "source": [
    "**27) [P] As the previous question suggested, this dataset has missing observations! How may records are missing?\n",
    "Compute this by reporting the number of observations you expect to see with 24 observations over 365 days,\n",
    "and then report the number of actual observations. What is the difference? This is the number of observations\n",
    "that are potentially missing!**"
   ]
  },
  {
   "cell_type": "code",
   "execution_count": 32,
   "metadata": {},
   "outputs": [
    {
     "name": "stdout",
     "output_type": "stream",
     "text": [
      "Expected observations are 8760\n",
      "Actual observations are 8693\n",
      "Difference is 67\n"
     ]
    }
   ],
   "source": [
    "print(\"Expected observations are {}\".format(24*365))\n",
    "print(\"Actual observations are {}\".format(df_temps.shape[0]))\n",
    "print(\"Difference is {}\".format(24*365 - df_temps.shape[0]))"
   ]
  },
  {
   "cell_type": "markdown",
   "metadata": {},
   "source": [
    "**28) [P] Time to investigate. Write code to perform a sanity check on the occurrence of index entries for every hour\n",
    "of every day between Jan 1, 2018 at midnight, through December 31, 2018, at 23:00. Report the observations\n",
    "that are missing, and any observations that are duplicate. Report the total quantity of both.**"
   ]
  },
  {
   "cell_type": "code",
   "execution_count": 33,
   "metadata": {},
   "outputs": [
    {
     "name": "stdout",
     "output_type": "stream",
     "text": [
      "67 observations are missing\n",
      "0 observations are duplicates\n"
     ]
    }
   ],
   "source": [
    "df_dr = pd.DatetimeIndex(pd.date_range(start='January 1, 2018',end='December 31, 2018',freq='H'))\n",
    "missing = df_dr[~df_dr.isin(df_temps.index)].size\n",
    "no_duplicates = df_temps.index.drop_duplicates().size\n",
    "print(\"{} observations are missing\".format(missing))\n",
    "print(\"{} observations are duplicates\".format(df_temps.shape[0] - no_duplicates))"
   ]
  },
  {
   "cell_type": "markdown",
   "metadata": {},
   "source": [
    "**29) [P] The next step is to assess missing data in each variable. Use the isna() method on df_temps to report\n",
    "the total number of entries in each variable that have missing values.**"
   ]
  },
  {
   "cell_type": "code",
   "execution_count": 34,
   "metadata": {},
   "outputs": [
    {
     "data": {
      "text/plain": [
       "Number of Observations (n/a)        0\n",
       "Average Temp (F)                    6\n",
       "Max Temp (F)                        6\n",
       "Min Temp (F)                        6\n",
       "Average Dewpoint Temp (F)           6\n",
       "1 Hour Precip (in)               6963\n",
       "Max Wind Gust (mph)              7649\n",
       "Average Relative Humidity (%)     268\n",
       "Average Wind Speed (mph)           13\n",
       "Average Station Pressure (mb)      18\n",
       "Average Wind Direction (deg)      414\n",
       "Max Wind Speed (mph)               13\n",
       "dtype: int64"
      ]
     },
     "execution_count": 34,
     "metadata": {},
     "output_type": "execute_result"
    }
   ],
   "source": [
    "df_temps.isna().sum()"
   ]
  },
  {
   "cell_type": "markdown",
   "metadata": {},
   "source": [
    "**30) [M] Which variables seem to have the most consistent, complete observations? Which are missing the most?\n",
    "Are they really \"missing\", or are they observations where an event did not occur? Discuss.**"
   ]
  },
  {
   "cell_type": "markdown",
   "metadata": {},
   "source": [
    "Number of observations has no missing values, while temperature was not recorded for 6 observations (it could be inferred that the same observations were missed for Max, Min, and Average Dewpoints). Missed values for max wind gust and precipitation were the highest, although I think they don't really matter since those are events occuring relatively rarely."
   ]
  },
  {
   "cell_type": "markdown",
   "metadata": {},
   "source": [
    "**31) [P] Report the time stamps that have missing temperatures. Do you see a pattern? Do they happen on a\n",
    "particular day of the week? Or time?**"
   ]
  },
  {
   "cell_type": "code",
   "execution_count": 35,
   "metadata": {},
   "outputs": [
    {
     "data": {
      "text/html": [
       "<div>\n",
       "<style scoped>\n",
       "    .dataframe tbody tr th:only-of-type {\n",
       "        vertical-align: middle;\n",
       "    }\n",
       "\n",
       "    .dataframe tbody tr th {\n",
       "        vertical-align: top;\n",
       "    }\n",
       "\n",
       "    .dataframe thead th {\n",
       "        text-align: right;\n",
       "    }\n",
       "</style>\n",
       "<table border=\"1\" class=\"dataframe\">\n",
       "  <thead>\n",
       "    <tr style=\"text-align: right;\">\n",
       "      <th></th>\n",
       "      <th>Number of Observations (n/a)</th>\n",
       "      <th>Average Temp (F)</th>\n",
       "      <th>Max Temp (F)</th>\n",
       "      <th>Min Temp (F)</th>\n",
       "      <th>Average Dewpoint Temp (F)</th>\n",
       "      <th>1 Hour Precip (in)</th>\n",
       "      <th>Max Wind Gust (mph)</th>\n",
       "      <th>Average Relative Humidity (%)</th>\n",
       "      <th>Average Wind Speed (mph)</th>\n",
       "      <th>Average Station Pressure (mb)</th>\n",
       "      <th>Average Wind Direction (deg)</th>\n",
       "      <th>Max Wind Speed (mph)</th>\n",
       "    </tr>\n",
       "    <tr>\n",
       "      <th>Date/Time (GMT)</th>\n",
       "      <th></th>\n",
       "      <th></th>\n",
       "      <th></th>\n",
       "      <th></th>\n",
       "      <th></th>\n",
       "      <th></th>\n",
       "      <th></th>\n",
       "      <th></th>\n",
       "      <th></th>\n",
       "      <th></th>\n",
       "      <th></th>\n",
       "      <th></th>\n",
       "    </tr>\n",
       "  </thead>\n",
       "  <tbody>\n",
       "    <tr>\n",
       "      <th>2018-03-15 14:00:00</th>\n",
       "      <td>1</td>\n",
       "      <td>NaN</td>\n",
       "      <td>NaN</td>\n",
       "      <td>NaN</td>\n",
       "      <td>NaN</td>\n",
       "      <td>NaN</td>\n",
       "      <td>17.299999</td>\n",
       "      <td>NaN</td>\n",
       "      <td>11.5</td>\n",
       "      <td>1002.700012</td>\n",
       "      <td>260.0</td>\n",
       "      <td>11.5</td>\n",
       "    </tr>\n",
       "    <tr>\n",
       "      <th>2018-03-15 15:00:00</th>\n",
       "      <td>1</td>\n",
       "      <td>NaN</td>\n",
       "      <td>NaN</td>\n",
       "      <td>NaN</td>\n",
       "      <td>NaN</td>\n",
       "      <td>NaN</td>\n",
       "      <td>17.299999</td>\n",
       "      <td>NaN</td>\n",
       "      <td>11.5</td>\n",
       "      <td>1002.400024</td>\n",
       "      <td>260.0</td>\n",
       "      <td>11.5</td>\n",
       "    </tr>\n",
       "    <tr>\n",
       "      <th>2018-05-07 14:00:00</th>\n",
       "      <td>1</td>\n",
       "      <td>NaN</td>\n",
       "      <td>NaN</td>\n",
       "      <td>NaN</td>\n",
       "      <td>NaN</td>\n",
       "      <td>NaN</td>\n",
       "      <td>NaN</td>\n",
       "      <td>NaN</td>\n",
       "      <td>3.5</td>\n",
       "      <td>1020.000000</td>\n",
       "      <td>NaN</td>\n",
       "      <td>3.5</td>\n",
       "    </tr>\n",
       "    <tr>\n",
       "      <th>2018-09-05 14:00:00</th>\n",
       "      <td>4</td>\n",
       "      <td>NaN</td>\n",
       "      <td>NaN</td>\n",
       "      <td>NaN</td>\n",
       "      <td>NaN</td>\n",
       "      <td>NaN</td>\n",
       "      <td>NaN</td>\n",
       "      <td>NaN</td>\n",
       "      <td>0.0</td>\n",
       "      <td>1024.300049</td>\n",
       "      <td>0.0</td>\n",
       "      <td>0.0</td>\n",
       "    </tr>\n",
       "    <tr>\n",
       "      <th>2018-11-29 13:00:00</th>\n",
       "      <td>1</td>\n",
       "      <td>NaN</td>\n",
       "      <td>NaN</td>\n",
       "      <td>NaN</td>\n",
       "      <td>NaN</td>\n",
       "      <td>NaN</td>\n",
       "      <td>28.799999</td>\n",
       "      <td>NaN</td>\n",
       "      <td>19.6</td>\n",
       "      <td>1016.299988</td>\n",
       "      <td>270.0</td>\n",
       "      <td>19.6</td>\n",
       "    </tr>\n",
       "    <tr>\n",
       "      <th>2018-11-29 14:00:00</th>\n",
       "      <td>1</td>\n",
       "      <td>NaN</td>\n",
       "      <td>NaN</td>\n",
       "      <td>NaN</td>\n",
       "      <td>NaN</td>\n",
       "      <td>NaN</td>\n",
       "      <td>25.299999</td>\n",
       "      <td>NaN</td>\n",
       "      <td>19.6</td>\n",
       "      <td>1016.900024</td>\n",
       "      <td>270.0</td>\n",
       "      <td>19.6</td>\n",
       "    </tr>\n",
       "  </tbody>\n",
       "</table>\n",
       "</div>"
      ],
      "text/plain": [
       "                     Number of Observations (n/a)  Average Temp (F)  \\\n",
       "Date/Time (GMT)                                                       \n",
       "2018-03-15 14:00:00                             1               NaN   \n",
       "2018-03-15 15:00:00                             1               NaN   \n",
       "2018-05-07 14:00:00                             1               NaN   \n",
       "2018-09-05 14:00:00                             4               NaN   \n",
       "2018-11-29 13:00:00                             1               NaN   \n",
       "2018-11-29 14:00:00                             1               NaN   \n",
       "\n",
       "                     Max Temp (F)  Min Temp (F)  Average Dewpoint Temp (F)  \\\n",
       "Date/Time (GMT)                                                              \n",
       "2018-03-15 14:00:00           NaN           NaN                        NaN   \n",
       "2018-03-15 15:00:00           NaN           NaN                        NaN   \n",
       "2018-05-07 14:00:00           NaN           NaN                        NaN   \n",
       "2018-09-05 14:00:00           NaN           NaN                        NaN   \n",
       "2018-11-29 13:00:00           NaN           NaN                        NaN   \n",
       "2018-11-29 14:00:00           NaN           NaN                        NaN   \n",
       "\n",
       "                     1 Hour Precip (in)  Max Wind Gust (mph)  \\\n",
       "Date/Time (GMT)                                                \n",
       "2018-03-15 14:00:00                 NaN            17.299999   \n",
       "2018-03-15 15:00:00                 NaN            17.299999   \n",
       "2018-05-07 14:00:00                 NaN                  NaN   \n",
       "2018-09-05 14:00:00                 NaN                  NaN   \n",
       "2018-11-29 13:00:00                 NaN            28.799999   \n",
       "2018-11-29 14:00:00                 NaN            25.299999   \n",
       "\n",
       "                     Average Relative Humidity (%)  Average Wind Speed (mph)  \\\n",
       "Date/Time (GMT)                                                                \n",
       "2018-03-15 14:00:00                            NaN                      11.5   \n",
       "2018-03-15 15:00:00                            NaN                      11.5   \n",
       "2018-05-07 14:00:00                            NaN                       3.5   \n",
       "2018-09-05 14:00:00                            NaN                       0.0   \n",
       "2018-11-29 13:00:00                            NaN                      19.6   \n",
       "2018-11-29 14:00:00                            NaN                      19.6   \n",
       "\n",
       "                     Average Station Pressure (mb)  \\\n",
       "Date/Time (GMT)                                      \n",
       "2018-03-15 14:00:00                    1002.700012   \n",
       "2018-03-15 15:00:00                    1002.400024   \n",
       "2018-05-07 14:00:00                    1020.000000   \n",
       "2018-09-05 14:00:00                    1024.300049   \n",
       "2018-11-29 13:00:00                    1016.299988   \n",
       "2018-11-29 14:00:00                    1016.900024   \n",
       "\n",
       "                     Average Wind Direction (deg)  Max Wind Speed (mph)  \n",
       "Date/Time (GMT)                                                          \n",
       "2018-03-15 14:00:00                         260.0                  11.5  \n",
       "2018-03-15 15:00:00                         260.0                  11.5  \n",
       "2018-05-07 14:00:00                           NaN                   3.5  \n",
       "2018-09-05 14:00:00                           0.0                   0.0  \n",
       "2018-11-29 13:00:00                         270.0                  19.6  \n",
       "2018-11-29 14:00:00                         270.0                  19.6  "
      ]
     },
     "execution_count": 35,
     "metadata": {},
     "output_type": "execute_result"
    }
   ],
   "source": [
    "bools = df_temps.isna()\n",
    "query = bools[bools['Average Temp (F)'] == True].index\n",
    "df_temps.loc[query]"
   ]
  },
  {
   "cell_type": "markdown",
   "metadata": {},
   "source": [
    "The first two occur on the same day and last two occur on the same day, while all of them occur between 1 pm and 3 pm."
   ]
  },
  {
   "cell_type": "markdown",
   "metadata": {},
   "source": [
    "**32) [P] Create a new categorical variable in df_temps called \"Quarter\", an ordinal, that is \"Q1\" if the month\n",
    "is 1-3, \"Q2\" if the month is 4-6, \"Q3\" if the month is 7-9, and \"Q4\" if the month is 10-12.**"
   ]
  },
  {
   "cell_type": "code",
   "execution_count": 36,
   "metadata": {},
   "outputs": [
    {
     "data": {
      "text/html": [
       "<div>\n",
       "<style scoped>\n",
       "    .dataframe tbody tr th:only-of-type {\n",
       "        vertical-align: middle;\n",
       "    }\n",
       "\n",
       "    .dataframe tbody tr th {\n",
       "        vertical-align: top;\n",
       "    }\n",
       "\n",
       "    .dataframe thead th {\n",
       "        text-align: right;\n",
       "    }\n",
       "</style>\n",
       "<table border=\"1\" class=\"dataframe\">\n",
       "  <thead>\n",
       "    <tr style=\"text-align: right;\">\n",
       "      <th></th>\n",
       "      <th>Number of Observations (n/a)</th>\n",
       "      <th>Average Temp (F)</th>\n",
       "      <th>Max Temp (F)</th>\n",
       "      <th>Min Temp (F)</th>\n",
       "      <th>Average Dewpoint Temp (F)</th>\n",
       "      <th>1 Hour Precip (in)</th>\n",
       "      <th>Max Wind Gust (mph)</th>\n",
       "      <th>Average Relative Humidity (%)</th>\n",
       "      <th>Average Wind Speed (mph)</th>\n",
       "      <th>Average Station Pressure (mb)</th>\n",
       "      <th>Average Wind Direction (deg)</th>\n",
       "      <th>Max Wind Speed (mph)</th>\n",
       "      <th>Quarter</th>\n",
       "    </tr>\n",
       "    <tr>\n",
       "      <th>Date/Time (GMT)</th>\n",
       "      <th></th>\n",
       "      <th></th>\n",
       "      <th></th>\n",
       "      <th></th>\n",
       "      <th></th>\n",
       "      <th></th>\n",
       "      <th></th>\n",
       "      <th></th>\n",
       "      <th></th>\n",
       "      <th></th>\n",
       "      <th></th>\n",
       "      <th></th>\n",
       "      <th></th>\n",
       "    </tr>\n",
       "  </thead>\n",
       "  <tbody>\n",
       "    <tr>\n",
       "      <th>2018-01-01 00:00:00</th>\n",
       "      <td>1</td>\n",
       "      <td>10.0</td>\n",
       "      <td>10.0</td>\n",
       "      <td>10.0</td>\n",
       "      <td>-5.1</td>\n",
       "      <td>NaN</td>\n",
       "      <td>NaN</td>\n",
       "      <td>49.0</td>\n",
       "      <td>6.9</td>\n",
       "      <td>1028.099976</td>\n",
       "      <td>310.0</td>\n",
       "      <td>6.9</td>\n",
       "      <td>Q1</td>\n",
       "    </tr>\n",
       "    <tr>\n",
       "      <th>2018-01-01 01:00:00</th>\n",
       "      <td>1</td>\n",
       "      <td>8.1</td>\n",
       "      <td>8.1</td>\n",
       "      <td>8.1</td>\n",
       "      <td>-5.1</td>\n",
       "      <td>NaN</td>\n",
       "      <td>NaN</td>\n",
       "      <td>54.0</td>\n",
       "      <td>0.0</td>\n",
       "      <td>1028.400024</td>\n",
       "      <td>0.0</td>\n",
       "      <td>0.0</td>\n",
       "      <td>Q1</td>\n",
       "    </tr>\n",
       "    <tr>\n",
       "      <th>2018-01-01 02:00:00</th>\n",
       "      <td>1</td>\n",
       "      <td>7.0</td>\n",
       "      <td>7.0</td>\n",
       "      <td>7.0</td>\n",
       "      <td>-4.0</td>\n",
       "      <td>NaN</td>\n",
       "      <td>NaN</td>\n",
       "      <td>60.0</td>\n",
       "      <td>0.0</td>\n",
       "      <td>1028.800049</td>\n",
       "      <td>0.0</td>\n",
       "      <td>0.0</td>\n",
       "      <td>Q1</td>\n",
       "    </tr>\n",
       "    <tr>\n",
       "      <th>2018-01-01 03:00:00</th>\n",
       "      <td>1</td>\n",
       "      <td>3.9</td>\n",
       "      <td>3.9</td>\n",
       "      <td>3.9</td>\n",
       "      <td>-5.1</td>\n",
       "      <td>NaN</td>\n",
       "      <td>NaN</td>\n",
       "      <td>65.0</td>\n",
       "      <td>3.5</td>\n",
       "      <td>1029.099976</td>\n",
       "      <td>240.0</td>\n",
       "      <td>3.5</td>\n",
       "      <td>Q1</td>\n",
       "    </tr>\n",
       "    <tr>\n",
       "      <th>2018-01-01 04:00:00</th>\n",
       "      <td>1</td>\n",
       "      <td>9.0</td>\n",
       "      <td>9.0</td>\n",
       "      <td>9.0</td>\n",
       "      <td>-2.9</td>\n",
       "      <td>NaN</td>\n",
       "      <td>NaN</td>\n",
       "      <td>58.0</td>\n",
       "      <td>9.2</td>\n",
       "      <td>1029.099976</td>\n",
       "      <td>270.0</td>\n",
       "      <td>9.2</td>\n",
       "      <td>Q1</td>\n",
       "    </tr>\n",
       "  </tbody>\n",
       "</table>\n",
       "</div>"
      ],
      "text/plain": [
       "                     Number of Observations (n/a)  Average Temp (F)  \\\n",
       "Date/Time (GMT)                                                       \n",
       "2018-01-01 00:00:00                             1              10.0   \n",
       "2018-01-01 01:00:00                             1               8.1   \n",
       "2018-01-01 02:00:00                             1               7.0   \n",
       "2018-01-01 03:00:00                             1               3.9   \n",
       "2018-01-01 04:00:00                             1               9.0   \n",
       "\n",
       "                     Max Temp (F)  Min Temp (F)  Average Dewpoint Temp (F)  \\\n",
       "Date/Time (GMT)                                                              \n",
       "2018-01-01 00:00:00          10.0          10.0                       -5.1   \n",
       "2018-01-01 01:00:00           8.1           8.1                       -5.1   \n",
       "2018-01-01 02:00:00           7.0           7.0                       -4.0   \n",
       "2018-01-01 03:00:00           3.9           3.9                       -5.1   \n",
       "2018-01-01 04:00:00           9.0           9.0                       -2.9   \n",
       "\n",
       "                     1 Hour Precip (in)  Max Wind Gust (mph)  \\\n",
       "Date/Time (GMT)                                                \n",
       "2018-01-01 00:00:00                 NaN                  NaN   \n",
       "2018-01-01 01:00:00                 NaN                  NaN   \n",
       "2018-01-01 02:00:00                 NaN                  NaN   \n",
       "2018-01-01 03:00:00                 NaN                  NaN   \n",
       "2018-01-01 04:00:00                 NaN                  NaN   \n",
       "\n",
       "                     Average Relative Humidity (%)  Average Wind Speed (mph)  \\\n",
       "Date/Time (GMT)                                                                \n",
       "2018-01-01 00:00:00                           49.0                       6.9   \n",
       "2018-01-01 01:00:00                           54.0                       0.0   \n",
       "2018-01-01 02:00:00                           60.0                       0.0   \n",
       "2018-01-01 03:00:00                           65.0                       3.5   \n",
       "2018-01-01 04:00:00                           58.0                       9.2   \n",
       "\n",
       "                     Average Station Pressure (mb)  \\\n",
       "Date/Time (GMT)                                      \n",
       "2018-01-01 00:00:00                    1028.099976   \n",
       "2018-01-01 01:00:00                    1028.400024   \n",
       "2018-01-01 02:00:00                    1028.800049   \n",
       "2018-01-01 03:00:00                    1029.099976   \n",
       "2018-01-01 04:00:00                    1029.099976   \n",
       "\n",
       "                     Average Wind Direction (deg)  Max Wind Speed (mph)  \\\n",
       "Date/Time (GMT)                                                           \n",
       "2018-01-01 00:00:00                         310.0                   6.9   \n",
       "2018-01-01 01:00:00                           0.0                   0.0   \n",
       "2018-01-01 02:00:00                           0.0                   0.0   \n",
       "2018-01-01 03:00:00                         240.0                   3.5   \n",
       "2018-01-01 04:00:00                         270.0                   9.2   \n",
       "\n",
       "                    Quarter  \n",
       "Date/Time (GMT)              \n",
       "2018-01-01 00:00:00      Q1  \n",
       "2018-01-01 01:00:00      Q1  \n",
       "2018-01-01 02:00:00      Q1  \n",
       "2018-01-01 03:00:00      Q1  \n",
       "2018-01-01 04:00:00      Q1  "
      ]
     },
     "execution_count": 36,
     "metadata": {},
     "output_type": "execute_result"
    }
   ],
   "source": [
    "df_temps[\"Quarter\"] = df_temps.index.quarter\n",
    "df_temps[\"Quarter\"] = df_temps[\"Quarter\"].apply(lambda x : 'Q' + str(x))\n",
    "df_temps.head()"
   ]
  },
  {
   "cell_type": "raw",
   "metadata": {},
   "source": [
    "**33) [P] Draw a boxplot showing the distribution of the average temperature over the entire year.**"
   ]
  },
  {
   "cell_type": "code",
   "execution_count": 37,
   "metadata": {},
   "outputs": [
    {
     "data": {
      "image/png": "[encoded data removed]",
      "text/plain": [
       "<matplotlib.figure.Figure at 0x1d112a87fd0>"
      ]
     },
     "metadata": {},
     "output_type": "display_data"
    }
   ],
   "source": [
    "df_temps.boxplot(column='Average Temp (F)')\n",
    "plt.show()"
   ]
  },
  {
   "cell_type": "markdown",
   "metadata": {},
   "source": [
    "**34) [P] Draw a boxplot showing the distribution of the average temperature for each quarter.**"
   ]
  },
  {
   "cell_type": "code",
   "execution_count": 38,
   "metadata": {},
   "outputs": [
    {
     "data": {
      "image/png": "[encoded data removed]",
      "text/plain": [
       "<matplotlib.figure.Figure at 0x1d112e6eb38>"
      ]
     },
     "metadata": {},
     "output_type": "display_data"
    }
   ],
   "source": [
    "df_temps.boxplot(column='Average Temp (F)', by='Quarter')\n",
    "plt.show()"
   ]
  },
  {
   "cell_type": "markdown",
   "metadata": {},
   "source": [
    "**35) [P] Plot the average temperature for the entire year. (NOTE: Some plots are very simply completed using\n",
    "matplotlib. You can still obtain the look and feel of seaborn by using sns.set_style() first, then\n",
    "plt.plot())**"
   ]
  },
  {
   "cell_type": "code",
   "execution_count": 39,
   "metadata": {},
   "outputs": [
    {
     "data": {
      "image/png": "[encoded data removed]",
      "text/plain": [
       "<matplotlib.figure.Figure at 0x1d112f22358>"
      ]
     },
     "metadata": {},
     "output_type": "display_data"
    }
   ],
   "source": [
    "sns.set_style(style='whitegrid')\n",
    "plt.plot(df_temps[\"Average Temp (F)\"])\n",
    "plt.xlabel(\"Time of Year\")\n",
    "plt.ylabel(\"Temperature (F)\")\n",
    "plt.title(\"Average Temperature (F) for the year 2018\")\n",
    "plt.show()"
   ]
  }
 ],
 "metadata": {
  "kernelspec": {
   "display_name": "Python 3",
   "language": "python",
   "name": "python3"
  },
  "language_info": {
   "codemirror_mode": {
    "name": "ipython",
    "version": 3
   },
   "file_extension": ".py",
   "mimetype": "text/x-python",
   "name": "python",
   "nbconvert_exporter": "python",
   "pygments_lexer": "ipython3",
   "version": "3.6.3"
  }
 },
 "nbformat": 4,
 "nbformat_minor": 2
}
