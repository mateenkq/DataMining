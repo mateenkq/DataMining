{
 "cells": [
  {
   "cell_type": "markdown",
   "metadata": {},
   "source": [
    "**1) [P] Create an 52500 x 75 matrix of zeros, stored as X. Then print out the shape of the matrix, the base data\n",
    "type, the total size of the array in bytes (as an integer), and the total size in megabytes with 3 places of\n",
    "significance.**"
   ]
  },
  {
   "cell_type": "code",
   "execution_count": 1,
   "metadata": {},
   "outputs": [
    {
     "name": "stdout",
     "output_type": "stream",
     "text": [
      "The shape of X is (52500, 75)\n",
      "The type of X is float64\n",
      "The total size of X in bytes is 31500000\n",
      "The total size of X in MB is 31.5\n"
     ]
    }
   ],
   "source": [
    "import numpy as np\n",
    "MEGA = 10**6\n",
    "ROWS = 52500\n",
    "COLS = 75\n",
    "X = np.zeros((ROWS, COLS))\n",
    "print(\"The shape of X is {}\".format(X.shape))\n",
    "print(\"The type of X is {}\".format(X.dtype))\n",
    "print(\"The total size of X in bytes is {}\".format(X.nbytes))\n",
    "print(\"The total size of X in MB is {:.3}\".format(X.nbytes/MEGA))"
   ]
  },
  {
   "cell_type": "markdown",
   "metadata": {},
   "source": [
    "**2) [P] Resize X to have the same number of elements, but with 100 rows. Show the shape. Show the number of\n",
    "bytes (it should be the same as the previous answer)**"
   ]
  },
  {
   "cell_type": "code",
   "execution_count": 2,
   "metadata": {},
   "outputs": [
    {
     "name": "stdout",
     "output_type": "stream",
     "text": [
      "The shape of X is (100, 39375)\n",
      "The total size of X in bytes is 31500000\n"
     ]
    }
   ],
   "source": [
    "X = np.resize(X, (100, ROWS * COLS // 100))\n",
    "print(\"The shape of X is {}\".format(X.shape))\n",
    "print(\"The total size of X in bytes is {}\".format(X.nbytes))"
   ]
  },
  {
   "cell_type": "markdown",
   "metadata": {},
   "source": [
    "**3) [P] Redo #1, but use a base datatype of 16-bit integers.**"
   ]
  },
  {
   "cell_type": "code",
   "execution_count": 3,
   "metadata": {},
   "outputs": [
    {
     "name": "stdout",
     "output_type": "stream",
     "text": [
      "The shape of X is (52500, 75)\n",
      "The type of X is int16\n",
      "The total size of X in bytes is 7875000\n",
      "The total size of X in MB is 7.88\n"
     ]
    }
   ],
   "source": [
    "X = np.zeros((ROWS, COLS), dtype=np.int16)\n",
    "print(\"The shape of X is {}\".format(X.shape))\n",
    "print(\"The type of X is {}\".format(X.dtype))\n",
    "print(\"The total size of X in bytes is {}\".format(X.nbytes))\n",
    "print(\"The total size of X in MB is {:.3}\".format(X.nbytes/MEGA))"
   ]
  },
  {
   "cell_type": "markdown",
   "metadata": {},
   "source": [
    "**4) [P] How many dimensions does X have? Answer using the appropriate property of np.ndarray objects.**"
   ]
  },
  {
   "cell_type": "code",
   "execution_count": 4,
   "metadata": {},
   "outputs": [
    {
     "name": "stdout",
     "output_type": "stream",
     "text": [
      "There are  2 dimensions in X\n"
     ]
    }
   ],
   "source": [
    "print(\"There are  {} dimensions in X\".format(X.ndim))"
   ]
  },
  {
   "cell_type": "markdown",
   "metadata": {},
   "source": [
    "**5) [P] Enter the following list in your cell:\n",
    "str_nums = ['2.14', '-9.3', '42']**\n",
    "\n",
    "**Convert this to a numpy array named X. What is the base type?\n",
    "Then, convert X to an array of single precision floating point numbers. (HINT: use astype)**"
   ]
  },
  {
   "cell_type": "code",
   "execution_count": 5,
   "metadata": {},
   "outputs": [
    {
     "name": "stdout",
     "output_type": "stream",
     "text": [
      "The type of X is float64\n",
      "The type of X is float32\n"
     ]
    }
   ],
   "source": [
    "str_nums = ['2.14', '-9.3', '42']\n",
    "X = np.asarray([float(i) for i in str_nums])\n",
    "print(\"The type of X is {}\".format(X.dtype))\n",
    "X = X.astype(np.float32)\n",
    "print(\"The type of X is {}\".format(X.dtype))"
   ]
  },
  {
   "cell_type": "markdown",
   "metadata": {},
   "source": [
    "**6) [P] Create a numpy array called scores, that has scores_1 as the first row and scores_2 as the second\n",
    "row, using np.concatenate. Then, change days into a np.array from the list days. Verify the shape of\n",
    "scores and days.**"
   ]
  },
  {
   "cell_type": "code",
   "execution_count": 6,
   "metadata": {
    "collapsed": true
   },
   "outputs": [],
   "source": [
    "days = [\"Mon\",\"Tue\",\"Wed\",\"Thu\",\"Fri\"]\n",
    "scores_1 = [9.5, 8.75, 8, 10, 7.75]\n",
    "scores_2 = [9, 8, 10, 8.75, 7.25]"
   ]
  },
  {
   "cell_type": "code",
   "execution_count": 7,
   "metadata": {},
   "outputs": [
    {
     "name": "stdout",
     "output_type": "stream",
     "text": [
      "The shape of scores is (2, 5)\n",
      "The shape of days is (5,)\n",
      "scores is given below\n",
      "[[  9.5    8.75   8.    10.     7.75]\n",
      " [  9.     8.    10.     8.75   7.25]]\n"
     ]
    }
   ],
   "source": [
    "scores = np.concatenate((np.reshape(scores_1, (1,-1)), np.reshape(scores_2, (1,-1))))\n",
    "days = np.array(days)\n",
    "print(\"The shape of scores is {}\".format(scores.shape))\n",
    "print(\"The shape of days is {}\".format(days.shape))\n",
    "print(\"scores is given below\")\n",
    "print(scores)"
   ]
  },
  {
   "cell_type": "markdown",
   "metadata": {},
   "source": [
    "**7) [P] Repeat the previous problem, but repeat it with np.vstack. The array should be identical.**"
   ]
  },
  {
   "cell_type": "code",
   "execution_count": 8,
   "metadata": {},
   "outputs": [
    {
     "name": "stdout",
     "output_type": "stream",
     "text": [
      "The shape of scores is (2, 5)\n",
      "scores is given below\n",
      "[[  9.5    8.75   8.    10.     7.75]\n",
      " [  9.     8.    10.     8.75   7.25]]\n"
     ]
    }
   ],
   "source": [
    "scores = np.vstack((scores_1, scores_2))\n",
    "print(\"The shape of scores is {}\".format(scores.shape))\n",
    "print(\"scores is given below\")\n",
    "print(scores)"
   ]
  },
  {
   "cell_type": "markdown",
   "metadata": {},
   "source": [
    "**8) [M] Compare the result of the expression days == \"Fri\" if the variable days was a Python list, vs. days\n",
    "being a numpy array. What is the difference? In general, how does numpy deal with standard comparison\n",
    "operators?**"
   ]
  },
  {
   "cell_type": "code",
   "execution_count": 9,
   "metadata": {},
   "outputs": [
    {
     "name": "stdout",
     "output_type": "stream",
     "text": [
      "If days is a regular Python list, we get\n",
      "[]\n",
      "vs if days is a numpy array ....\n",
      "[[ 7.75]\n",
      " [ 7.25]]\n"
     ]
    }
   ],
   "source": [
    "days = [\"Mon\",\"Tue\",\"Wed\",\"Thu\",\"Fri\"]\n",
    "print(\"If days is a regular Python list, we get\")\n",
    "print(scores[:, days == \"Fri\"])\n",
    "print(\"vs if days is a numpy array ....\")\n",
    "days = np.array(days)\n",
    "print(scores[:, days == \"Fri\"])"
   ]
  },
  {
   "cell_type": "markdown",
   "metadata": {},
   "source": [
    "The reason for this result is that when we use regular Python lists, days == 'Fri' will just return False, whereas with a numpy array, we will get a list of similar shape consisting of Booleans where each element's Boolean value corresponds to whether the element in the original numpy array was equal to \"Fri\" or not. For example, in this case we will get [False, False, False, False, True]"
   ]
  },
  {
   "cell_type": "markdown",
   "metadata": {},
   "source": [
    "**9) [P] Select the scores that fell on Monday**"
   ]
  },
  {
   "cell_type": "code",
   "execution_count": 10,
   "metadata": {},
   "outputs": [
    {
     "name": "stdout",
     "output_type": "stream",
     "text": [
      "[[ 9.5]\n",
      " [ 9. ]]\n"
     ]
    }
   ],
   "source": [
    "print(scores[:, days == \"Mon\"])"
   ]
  },
  {
   "cell_type": "markdown",
   "metadata": {},
   "source": [
    "**10) [P] Select all of the scores that are NOT on Monday (Hint – look up the ~ operator)**"
   ]
  },
  {
   "cell_type": "code",
   "execution_count": 11,
   "metadata": {},
   "outputs": [
    {
     "name": "stdout",
     "output_type": "stream",
     "text": [
      "[[  8.75   8.    10.     7.75]\n",
      " [  8.    10.     8.75   7.25]]\n"
     ]
    }
   ],
   "source": [
    "print(scores[:, ~(days == \"Mon\")])"
   ]
  },
  {
   "cell_type": "markdown",
   "metadata": {},
   "source": [
    "**11) [P] Select the scores that were on Tuesday or Thursday**"
   ]
  },
  {
   "cell_type": "code",
   "execution_count": 12,
   "metadata": {},
   "outputs": [
    {
     "name": "stdout",
     "output_type": "stream",
     "text": [
      "[[  8.75  10.  ]\n",
      " [  8.     8.75]]\n"
     ]
    }
   ],
   "source": [
    "print(scores[:, np.logical_or(days == 'Tue', days == 'Thu')])"
   ]
  },
  {
   "cell_type": "markdown",
   "metadata": {},
   "source": [
    "**12) [P] Show the minimum and maximum scores for the entire array of scores**"
   ]
  },
  {
   "cell_type": "code",
   "execution_count": 13,
   "metadata": {},
   "outputs": [
    {
     "name": "stdout",
     "output_type": "stream",
     "text": [
      "min score was 7.25\n",
      "max score was 10.0\n"
     ]
    }
   ],
   "source": [
    "print(\"min score was {}\".format(np.min(scores)))\n",
    "print(\"max score was {}\".format(np.max(scores)))"
   ]
  },
  {
   "cell_type": "markdown",
   "metadata": {},
   "source": [
    "**13) [P] Show the minimum scores for each week as a new array with the same dimensions**"
   ]
  },
  {
   "cell_type": "code",
   "execution_count": 14,
   "metadata": {},
   "outputs": [
    {
     "name": "stdout",
     "output_type": "stream",
     "text": [
      "[[ 7.75]\n",
      " [ 7.25]]\n"
     ]
    }
   ],
   "source": [
    "print(np.amin(scores, axis=1, keepdims=True))"
   ]
  },
  {
   "cell_type": "markdown",
   "metadata": {},
   "source": [
    "**14) [P] Report the day that the maximum score occurred each week. (HINT: use argmax and use that result to\n",
    "index days.)**"
   ]
  },
  {
   "cell_type": "code",
   "execution_count": 15,
   "metadata": {},
   "outputs": [
    {
     "name": "stdout",
     "output_type": "stream",
     "text": [
      "[['Thu']\n",
      " ['Wed']]\n"
     ]
    }
   ],
   "source": [
    "print(np.reshape(days[scores.argmax(axis=1)], (-1, 1)))"
   ]
  },
  {
   "cell_type": "markdown",
   "metadata": {},
   "source": [
    "**15) [P] Report the mean of the scores of each week**`"
   ]
  },
  {
   "cell_type": "code",
   "execution_count": 16,
   "metadata": {},
   "outputs": [
    {
     "name": "stdout",
     "output_type": "stream",
     "text": [
      "[[ 8.8]\n",
      " [ 8.6]]\n"
     ]
    }
   ],
   "source": [
    "mean = np.mean(scores, axis=1).reshape(-1,1)\n",
    "print(mean)"
   ]
  },
  {
   "cell_type": "markdown",
   "metadata": {},
   "source": [
    "**16) [P] Suppose the lowest score was dropped from each week. Report the mean of each week, but without the\n",
    "minimum score for that week.**"
   ]
  },
  {
   "cell_type": "code",
   "execution_count": 17,
   "metadata": {},
   "outputs": [
    {
     "name": "stdout",
     "output_type": "stream",
     "text": [
      "[[ 9.0625]\n",
      " [ 8.9375]]\n"
     ]
    }
   ],
   "source": [
    "NUM_DAYS = days.shape[0]\n",
    "mins = np.amin(scores, axis=1, keepdims=True)\n",
    "new_mean = (mean * NUM_DAYS - mins) / (NUM_DAYS - 1)\n",
    "print(new_mean)"
   ]
  },
  {
   "cell_type": "markdown",
   "metadata": {},
   "source": [
    "**17) [P] Convert the scores to fall on a scale from 0-100 instead of 0-10.**"
   ]
  },
  {
   "cell_type": "code",
   "execution_count": 18,
   "metadata": {},
   "outputs": [
    {
     "name": "stdout",
     "output_type": "stream",
     "text": [
      "[[  95.    87.5   80.   100.    77.5]\n",
      " [  90.    80.   100.    87.5   72.5]]\n"
     ]
    }
   ],
   "source": [
    "scores = scores / 10 * 100\n",
    "print(scores)"
   ]
  },
  {
   "cell_type": "markdown",
   "metadata": {},
   "source": [
    "**Copy and paste this code into a cell:\n",
    "np.random.seed(1234)\n",
    "X = np.random.randint(1,100,50).reshape((10,5))\n",
    "X**"
   ]
  },
  {
   "cell_type": "code",
   "execution_count": 19,
   "metadata": {},
   "outputs": [
    {
     "data": {
      "text/plain": [
       "array([[48, 84, 39, 54, 77],\n",
       "       [25, 16, 50, 24, 27],\n",
       "       [31, 44, 31, 27, 59],\n",
       "       [93, 70, 81, 74, 48],\n",
       "       [51, 77, 38, 35, 39],\n",
       "       [68, 12,  1, 76, 81],\n",
       "       [ 4,  3, 20, 13, 66],\n",
       "       [76, 82, 15, 72, 61],\n",
       "       [47, 29, 82, 88, 14],\n",
       "       [97, 13, 70, 96, 32]])"
      ]
     },
     "execution_count": 19,
     "metadata": {},
     "output_type": "execute_result"
    }
   ],
   "source": [
    "np.random.seed(1234)\n",
    "X = np.random.randint(1,100,50).reshape((10,5))\n",
    "X"
   ]
  },
  {
   "cell_type": "markdown",
   "metadata": {},
   "source": [
    "**18) [P] Select the first row of X**"
   ]
  },
  {
   "cell_type": "code",
   "execution_count": 20,
   "metadata": {},
   "outputs": [
    {
     "data": {
      "text/plain": [
       "array([48, 84, 39, 54, 77])"
      ]
     },
     "execution_count": 20,
     "metadata": {},
     "output_type": "execute_result"
    }
   ],
   "source": [
    "X[0]"
   ]
  },
  {
   "cell_type": "markdown",
   "metadata": {},
   "source": [
    "**19) [P] Select the last column of X**"
   ]
  },
  {
   "cell_type": "code",
   "execution_count": 21,
   "metadata": {},
   "outputs": [
    {
     "data": {
      "text/plain": [
       "array([77, 27, 59, 48, 39, 81, 66, 61, 14, 32])"
      ]
     },
     "execution_count": 21,
     "metadata": {},
     "output_type": "execute_result"
    }
   ],
   "source": [
    "X[:,-1]"
   ]
  },
  {
   "cell_type": "markdown",
   "metadata": {},
   "source": [
    "**20) [P] Select the first AND last column of X**"
   ]
  },
  {
   "cell_type": "code",
   "execution_count": 22,
   "metadata": {},
   "outputs": [
    {
     "data": {
      "text/plain": [
       "array([[48, 77],\n",
       "       [25, 27],\n",
       "       [31, 59],\n",
       "       [93, 48],\n",
       "       [51, 39],\n",
       "       [68, 81],\n",
       "       [ 4, 66],\n",
       "       [76, 61],\n",
       "       [47, 14],\n",
       "       [97, 32]])"
      ]
     },
     "execution_count": 22,
     "metadata": {},
     "output_type": "execute_result"
    }
   ],
   "source": [
    "X[:, [0, -1]]"
   ]
  },
  {
   "cell_type": "markdown",
   "metadata": {},
   "source": [
    "**21) [P] Select every other row of X**"
   ]
  },
  {
   "cell_type": "code",
   "execution_count": 23,
   "metadata": {},
   "outputs": [
    {
     "data": {
      "text/plain": [
       "array([[48, 84, 39, 54, 77],\n",
       "       [31, 44, 31, 27, 59],\n",
       "       [51, 77, 38, 35, 39],\n",
       "       [ 4,  3, 20, 13, 66],\n",
       "       [47, 29, 82, 88, 14]])"
      ]
     },
     "execution_count": 23,
     "metadata": {},
     "output_type": "execute_result"
    }
   ],
   "source": [
    "X[::2]"
   ]
  },
  {
   "cell_type": "markdown",
   "metadata": {},
   "source": [
    "**22) [P] Show the transpose of X, but don't change X itself**"
   ]
  },
  {
   "cell_type": "code",
   "execution_count": 24,
   "metadata": {},
   "outputs": [
    {
     "data": {
      "text/plain": [
       "array([[48, 25, 31, 93, 51, 68,  4, 76, 47, 97],\n",
       "       [84, 16, 44, 70, 77, 12,  3, 82, 29, 13],\n",
       "       [39, 50, 31, 81, 38,  1, 20, 15, 82, 70],\n",
       "       [54, 24, 27, 74, 35, 76, 13, 72, 88, 96],\n",
       "       [77, 27, 59, 48, 39, 81, 66, 61, 14, 32]])"
      ]
     },
     "execution_count": 24,
     "metadata": {},
     "output_type": "execute_result"
    }
   ],
   "source": [
    "np.transpose(X)"
   ]
  },
  {
   "cell_type": "markdown",
   "metadata": {},
   "source": [
    "**23) [P] Select the first column of X and set the result to Y.**"
   ]
  },
  {
   "cell_type": "code",
   "execution_count": 25,
   "metadata": {},
   "outputs": [
    {
     "data": {
      "text/plain": [
       "array([48, 25, 31, 93, 51, 68,  4, 76, 47, 97])"
      ]
     },
     "execution_count": 25,
     "metadata": {},
     "output_type": "execute_result"
    }
   ],
   "source": [
    "Y = X[:,0]\n",
    "Y"
   ]
  },
  {
   "cell_type": "markdown",
   "metadata": {},
   "source": [
    "**24) [P] Increment the first value of Y, then show the corresponding value of X. Did both values in X and Y change?**"
   ]
  },
  {
   "cell_type": "code",
   "execution_count": 26,
   "metadata": {},
   "outputs": [
    {
     "data": {
      "text/plain": [
       "array([[49, 84, 39, 54, 77],\n",
       "       [25, 16, 50, 24, 27],\n",
       "       [31, 44, 31, 27, 59],\n",
       "       [93, 70, 81, 74, 48],\n",
       "       [51, 77, 38, 35, 39],\n",
       "       [68, 12,  1, 76, 81],\n",
       "       [ 4,  3, 20, 13, 66],\n",
       "       [76, 82, 15, 72, 61],\n",
       "       [47, 29, 82, 88, 14],\n",
       "       [97, 13, 70, 96, 32]])"
      ]
     },
     "execution_count": 26,
     "metadata": {},
     "output_type": "execute_result"
    }
   ],
   "source": [
    "Y[0] += 1\n",
    "X"
   ]
  },
  {
   "cell_type": "markdown",
   "metadata": {},
   "source": [
    "Yes the values in both X and Y changed."
   ]
  },
  {
   "cell_type": "markdown",
   "metadata": {},
   "source": [
    "**25) [P] Repeat exercise 23, but ensure that Y is assigned a copy of the selected data. Increment the first value of Y\n",
    "and ensure that the corresponding value of X did not change.**"
   ]
  },
  {
   "cell_type": "code",
   "execution_count": 27,
   "metadata": {},
   "outputs": [
    {
     "data": {
      "text/plain": [
       "array([[49, 84, 39, 54, 77],\n",
       "       [25, 16, 50, 24, 27],\n",
       "       [31, 44, 31, 27, 59],\n",
       "       [93, 70, 81, 74, 48],\n",
       "       [51, 77, 38, 35, 39],\n",
       "       [68, 12,  1, 76, 81],\n",
       "       [ 4,  3, 20, 13, 66],\n",
       "       [76, 82, 15, 72, 61],\n",
       "       [47, 29, 82, 88, 14],\n",
       "       [97, 13, 70, 96, 32]])"
      ]
     },
     "execution_count": 27,
     "metadata": {},
     "output_type": "execute_result"
    }
   ],
   "source": [
    "Y = np.copy(X[:,0])\n",
    "Y[0] += 1\n",
    "X"
   ]
  },
  {
   "cell_type": "markdown",
   "metadata": {},
   "source": [
    "**26) [P] Create an array that contains the sequence of numbers 0, 0.1, 0.2, ... 9.8, 9.9 using arange, as a 10x10\n",
    "matrix, stored as X.**"
   ]
  },
  {
   "cell_type": "code",
   "execution_count": 28,
   "metadata": {},
   "outputs": [
    {
     "data": {
      "text/plain": [
       "array([[ 0. ,  0.1,  0.2,  0.3,  0.4,  0.5,  0.6,  0.7,  0.8,  0.9],\n",
       "       [ 1. ,  1.1,  1.2,  1.3,  1.4,  1.5,  1.6,  1.7,  1.8,  1.9],\n",
       "       [ 2. ,  2.1,  2.2,  2.3,  2.4,  2.5,  2.6,  2.7,  2.8,  2.9],\n",
       "       [ 3. ,  3.1,  3.2,  3.3,  3.4,  3.5,  3.6,  3.7,  3.8,  3.9],\n",
       "       [ 4. ,  4.1,  4.2,  4.3,  4.4,  4.5,  4.6,  4.7,  4.8,  4.9],\n",
       "       [ 5. ,  5.1,  5.2,  5.3,  5.4,  5.5,  5.6,  5.7,  5.8,  5.9],\n",
       "       [ 6. ,  6.1,  6.2,  6.3,  6.4,  6.5,  6.6,  6.7,  6.8,  6.9],\n",
       "       [ 7. ,  7.1,  7.2,  7.3,  7.4,  7.5,  7.6,  7.7,  7.8,  7.9],\n",
       "       [ 8. ,  8.1,  8.2,  8.3,  8.4,  8.5,  8.6,  8.7,  8.8,  8.9],\n",
       "       [ 9. ,  9.1,  9.2,  9.3,  9.4,  9.5,  9.6,  9.7,  9.8,  9.9]])"
      ]
     },
     "execution_count": 28,
     "metadata": {},
     "output_type": "execute_result"
    }
   ],
   "source": [
    "X = np.reshape(np.arange(0,10,0.1), (10, 10))\n",
    "X"
   ]
  },
  {
   "cell_type": "markdown",
   "metadata": {},
   "source": [
    "**27) [P] Set the RNG seed to 1234. Then create an array X of uniformly distributed data, with all values between 1.0\n",
    "and 10.0. Then, show the mean, the median, the minimum and maximum values of X.**"
   ]
  },
  {
   "cell_type": "code",
   "execution_count": 29,
   "metadata": {},
   "outputs": [
    {
     "name": "stdout",
     "output_type": "stream",
     "text": [
      "The mean is 5.183629078788024\n",
      "The median is 5.363649277280128\n",
      "The min is 0.06208516587129398\n",
      "The max is 9.920814661883615\n"
     ]
    }
   ],
   "source": [
    "seed = 1234\n",
    "np.random.seed(seed)\n",
    "X = np.random.rand(10,10) * 10\n",
    "print(\"The mean is {}\".format(np.mean(X)))\n",
    "print(\"The median is {}\".format(np.median(X)))\n",
    "print(\"The min is {}\".format(np.min(X)))\n",
    "print(\"The max is {}\".format(np.max(X)))"
   ]
  },
  {
   "cell_type": "markdown",
   "metadata": {},
   "source": [
    "**28) [M] Define what is meant by a normal distribution. What are the parameters of a normal distribution?**"
   ]
  },
  {
   "cell_type": "markdown",
   "metadata": {},
   "source": [
    "The normal distribution is a function which pertains to the probabilistic distribution of variables such that they are symmetrically centered around a certain mean. The two parameters in this distribution are the mean, which serves as the center around which the probabilities are symmetrically distributed, and the standard deviation, which is such that 68% of all variables are situated within 1 standard variable of the mean, while 95% are situated within 2 standard variables."
   ]
  },
  {
   "cell_type": "markdown",
   "metadata": {},
   "source": [
    "**29) [M] In simple terms, using a normal distribution, what does the Law of Large Numbers tell us?**"
   ]
  },
  {
   "cell_type": "markdown",
   "metadata": {},
   "source": [
    "The Law of Large Numbers tells us that if we take an experiment for which we have an expected result, and repeat that experiment a very large number of times (approaching infinity), the mean of the results will approach the expected value, and the distribution of the overall results will resemble that of the normal distribution, with the differences between the two becoming more and more negligible for a larger number of experiments"
   ]
  },
  {
   "cell_type": "markdown",
   "metadata": {},
   "source": [
    "**30) [P] Write a function called test_normal_dist. The purpose of this function is to evaluate the law of large\n",
    "numbers. It should have four parameters:**\n",
    "    \n",
    "**mu = mean of distribution**\n",
    "\n",
    "**sd = standard deviation**\n",
    "\n",
    "**vec_length = length of the vector to generate randomly from a normal distribution, with mu and sd as\n",
    "parameters**\n",
    "\n",
    "**num_trials = number of times to repeat the experiment**"
   ]
  },
  {
   "cell_type": "code",
   "execution_count": 30,
   "metadata": {
    "collapsed": true
   },
   "outputs": [],
   "source": [
    "def test_normal_dist(vec_length, mu=0, sd=1, num_trials=100):\n",
    "    seed = 1234\n",
    "    np.random.seed(seed)\n",
    "    sum_devs = 0\n",
    "    for num in range(num_trials):\n",
    "        current_vec = np.random.normal(loc=mu,scale=sd,size=vec_length)\n",
    "        sum_devs += abs(mu - np.mean(current_vec))\n",
    "    return round(sum_devs/num_trials, 4)"
   ]
  },
  {
   "cell_type": "markdown",
   "metadata": {},
   "source": [
    "**31) [P] Use test_normal_dist to obtain the deviation for vector lengths of 10, 100, 1000, 10000, and 100000. Use a fixed number of trials of 100 for each experiment. Report the results as a numpy array with two\n",
    "dimensions. the first being the vector length, and the second being the average deviation resulting from your\n",
    "test_normal_dist function.**"
   ]
  },
  {
   "cell_type": "code",
   "execution_count": 31,
   "metadata": {},
   "outputs": [
    {
     "name": "stdout",
     "output_type": "stream",
     "text": [
      "[[  1.00000000e+01   2.38600001e-01]\n",
      " [  1.00000000e+02   8.10000002e-02]\n",
      " [  1.00000000e+03   2.22999994e-02]\n",
      " [  1.00000000e+04   7.89999962e-03]\n",
      " [  1.00000000e+05   2.40000011e-03]]\n"
     ]
    }
   ],
   "source": [
    "vectors = [10,100,1000,10000,100000]\n",
    "results = np.array(list(map(test_normal_dist, vectors)), dtype=np.float32)\n",
    "print(np.stack((vectors, results), axis=-1))"
   ]
  }
 ],
 "metadata": {
  "kernelspec": {
   "display_name": "Python 3",
   "language": "python",
   "name": "python3"
  },
  "language_info": {
   "codemirror_mode": {
    "name": "ipython",
    "version": 3
   },
   "file_extension": ".py",
   "mimetype": "text/x-python",
   "name": "python",
   "nbconvert_exporter": "python",
   "pygments_lexer": "ipython3",
   "version": "3.6.3"
  }
 },
 "nbformat": 4,
 "nbformat_minor": 2
}
